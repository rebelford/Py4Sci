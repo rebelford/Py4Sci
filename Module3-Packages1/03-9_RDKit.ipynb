{
 "cells": [
  {
   "cell_type": "markdown",
   "id": "9b0ce09f-2eeb-445a-9cfe-478b869e2c8d",
   "metadata": {},
   "source": [
    "# Introduction\n",
    "\n"
   ]
  },
  {
   "cell_type": "markdown",
   "id": "03d54530-dacf-41c1-a5bc-6b1879aef49f",
   "metadata": {},
   "source": []
  },
  {
   "cell_type": "markdown",
   "id": "c9a3739c-1f75-4cf4-ad5a-3fcd215bff59",
   "metadata": {},
   "source": []
  },
  {
   "cell_type": "markdown",
   "id": "788c2199-b69c-4d94-ab15-8853c2af5960",
   "metadata": {},
   "source": []
  },
  {
   "cell_type": "markdown",
   "id": "0da002e9-005b-4444-966c-335b8c963a55",
   "metadata": {},
   "source": []
  }
 ],
 "metadata": {
  "kernelspec": {
   "display_name": "Python (py4sci)",
   "language": "python",
   "name": "py4sci"
  },
  "language_info": {
   "codemirror_mode": {
    "name": "ipython",
    "version": 3
   },
   "file_extension": ".py",
   "mimetype": "text/x-python",
   "name": "python",
   "nbconvert_exporter": "python",
   "pygments_lexer": "ipython3",
   "version": "3.12.8"
  }
 },
 "nbformat": 4,
 "nbformat_minor": 5
}
