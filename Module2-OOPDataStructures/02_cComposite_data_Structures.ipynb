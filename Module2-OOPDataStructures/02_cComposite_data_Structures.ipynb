{
 "cells": [
  {
   "cell_type": "markdown",
   "id": "4ce18406-694d-4de0-9131-b52686b675ef",
   "metadata": {
    "jp-MarkdownHeadingCollapsed": true
   },
   "source": [
    "# Composite Data Structures\n",
    "| Data Structure | Description                                                                                 |\n",
    "|----------------|---------------------------------------------------------------------------------------------|\n",
    "| `list`         | A collection of ordered, mutable items that can hold elements of different types.           |\n",
    "| `tuple`        | An ordered, immutable sequence of items, which can also hold elements of different types.   |\n",
    "| `set`          | An unordered collection of unique, immutable items.                                         |\n",
    "| `dict`         | A collection of key-value pairs, where keys are unique and immutable, and values are mutable.|"
   ]
  },
  {
   "cell_type": "markdown",
   "id": "751a02e0-3444-4b76-9b96-59312b3ebf98",
   "metadata": {},
   "source": [
    "# Lists\n",
    "A python list is a built-in container style data structure that allows you to store multiple items in a variable.  Lists are **ordered, mutable* (changeable) and can **hold elements of different data types**, including other lists. Lists use brackets [ ] to identify them\n"
   ]
  },
  {
   "cell_type": "markdown",
   "id": "4363f658-11d1-4ea8-98b4-4d3a0003f1d2",
   "metadata": {},
   "source": [
    "## Ways of making a list\n",
    "\n",
    "### 1. Using Square Brackets\n",
    "noble_gases = [\"He\", \"Ne\", \"Ar\", \"Kr\", \"Xe\", \"Rn\", \"Og\"]\n"
   ]
  },
  {
   "cell_type": "code",
   "execution_count": null,
   "id": "7d33d960-82ee-435b-b22b-0f12f7084cdc",
   "metadata": {},
   "outputs": [],
   "source": [
    "noble_gases = [\"He\", \"Ne\", \"Ar\", \"Kr\", \"Xe\", \"Rn\", \"Og\"]\n",
    "atomic_masses = [4.0026, 20.180, 39.948, 83.798, 131.293, 222, 294]  # g/mol\n",
    "atomic_numbers = [2, 10, 18, 36, 54, 86, 118]  # Atomic numbers\n",
    "boiling_points = [4.22, 27.07, 87.30, 119.93, 165.03, 211.3, None]  # K (Og unknown)\n",
    "print(noble_gases)\n",
    "print(boiling_points)"
   ]
  },
  {
   "cell_type": "markdown",
   "id": "753c9f11-c07d-47ef-8a45-ed81b196b3da",
   "metadata": {},
   "source": [
    "### 2. list() constructor\n",
    "The list() constructor converts a single iterable item like a tuple, set, string into a list.   Here we are converting a tuple into a list, which is why there are two parenthesis.  The inner one is for the tuple, and the other is for the list constructor \n",
    "\n",
    "alkanes = list((\"Methane\", \"Ethane\", \"Propane\", \"Butane\", \"Pentane\",\n",
    "                \"Hexane\", \"Heptane\", \"Octane\", \"Nonane\", \"Decane\"))"
   ]
  },
  {
   "cell_type": "code",
   "execution_count": null,
   "id": "7252498c-7913-44fd-9cb9-79392f393710",
   "metadata": {},
   "outputs": [],
   "source": [
    "alkanes = list((\"Methane\", \"Ethane\", \"Propane\", \"Butane\", \"Pentane\",\n",
    "                \"Hexane\", \"Heptane\", \"Octane\", \"Nonane\", \"Decane\"))\n",
    "\n",
    "alkane_bp = list((-161.5, -88.5, -42.1, -0.5, 36.1,\n",
    "                  68.7, 98.4, 125.7, 150.8, 174.1))  # Boiling points in °C\n",
    "\n",
    "print(alkanes)\n",
    "print(alkane_bp)"
   ]
  },
  {
   "cell_type": "markdown",
   "id": "52bdf035-8b9f-411b-a44b-711cafbde62e",
   "metadata": {},
   "source": [
    "### Create an empty list\n",
    "Often we want to add items to a list that starts off as empty, and we need a variable defined as the list.\n",
    "my_sum = []"
   ]
  },
  {
   "cell_type": "code",
   "execution_count": null,
   "id": "f5003b18-ce55-49b9-aea5-a8588a1fdb3a",
   "metadata": {},
   "outputs": [],
   "source": [
    "my_sum = []\n",
    "print(my_sum)"
   ]
  },
  {
   "cell_type": "markdown",
   "id": "037bd387-9305-4174-91cb-bcd9ab4f351c",
   "metadata": {},
   "source": [
    "## List Methods\n",
    "The following table shows commonly used **list methods**, which are functions specific to list objects:\n",
    "\n",
    "| Method | Description | Example |\n",
    "|--------|------------|---------|\n",
    "| `append(x)` | Adds an item `x` to the end of the list. | `elements.append(\"Beryllium\")` |\n",
    "| `extend(iterable)` | Extends the list by appending elements from an iterable. | `elements.extend([\"Boron\", \"Carbon\"])` |\n",
    "| `insert(i, x)` | Inserts item `x` at position `i`. | `elements.insert(1, \"Neon\")` |\n",
    "| `remove(x)` | Removes the first occurrence of `x`. | `elements.remove(\"Helium\")` |\n",
    "| `pop([i])` | Removes and returns the item at index `i` (last if unspecified). | `elements.pop(2)` |\n",
    "| `index(x)` | Returns the index of `x`. | `elements.index(\"Lithium\")` |\n",
    "| `count(x)` | Returns the count of `x` in the list. | `elements.count(\"Oxygen\")` |\n",
    "| `sort()` | Sorts the list in ascending order. | `elements.sort()` |\n",
    "| `reverse()` | Reverses the order of elements in the list. | `elements.reverse()` |\n",
    "| `copy()` | Returns a shallow copy of the list. | `new_list = elements.copy()` |\n",
    "| `clear()` | Removes all elements from the list. | `elements.clear()` |\n",
    "\n",
    "---\n",
    "\n",
    "## Built-in Functions That Work on Lists\n",
    "\n",
    "Python provides several built-in functions that work on lists:\n",
    "\n",
    "| Function | Description | Example |\n",
    "|----------|------------|---------|\n",
    "| `len(lst)` | Returns the number of elements in the list. | `len(elements)` |\n",
    "| `min(lst)` | Returns the smallest element. | `min([3, 1, 4])` |\n",
    "| `max(lst)` | Returns the largest element. | `max([3, 1, 4])` |\n",
    "| `sum(lst)` | Returns the sum of all elements (if numeric). | `sum([3, 1, 4])` |\n",
    "| `sorted(lst)` | Returns a new sorted list without modifying the original. | `sorted(elements)` |\n",
    "| `list(iterable)` | Converts an iterable (like a tuple or string) into a list. | `list(\"Chemistry\")` |\n",
    "\n",
    "---"
   ]
  },
  {
   "cell_type": "markdown",
   "id": "bff4f5e1-85cd-4e88-b8c3-6b6b81e7db7a",
   "metadata": {},
   "source": [
    "### examples of list methods and functions in action"
   ]
  },
  {
   "cell_type": "code",
   "execution_count": null,
   "id": "ee8d88e9-44e2-4c6f-bbac-64ef33e961d3",
   "metadata": {},
   "outputs": [],
   "source": [
    "# Create and print a list\n",
    "molar_mass=['hydrogen',1.00784,'helium',4.002602,'lithium', 6.941, 'beryllium', 9.012182]\n",
    "print(molar_mass)"
   ]
  },
  {
   "cell_type": "code",
   "execution_count": null,
   "id": "85fa6036-195f-4fbd-9e78-9955c78d0a3c",
   "metadata": {},
   "outputs": [],
   "source": [
    "# determine the length of a list\n",
    "print(len(molar_mass))\n",
    "print(f\"There are {len(molar_mass)} items in the list molar_Mass\")"
   ]
  },
  {
   "cell_type": "code",
   "execution_count": null,
   "id": "ac40954d-a627-44fe-94a2-ca244d6d41ed",
   "metadata": {},
   "outputs": [],
   "source": [
    "# use indexing to print even items (starting with zero)\n",
    "print(molar_mass[0::2])\n",
    "print(molar_mass[1::2])"
   ]
  },
  {
   "cell_type": "code",
   "execution_count": null,
   "id": "7285703e-7376-48c4-8912-1da8b35e4fc7",
   "metadata": {},
   "outputs": [],
   "source": [
    "# summing the masses\n",
    "masses = molar_mass[1::2]\n",
    "print(masses)\n",
    "print(type(masses))\n",
    "print(sum(masses))"
   ]
  },
  {
   "cell_type": "code",
   "execution_count": null,
   "id": "5f0732d8-9abb-4221-8076-4630ff2b93f8",
   "metadata": {},
   "outputs": [],
   "source": [
    "# calculate the average molar mass\n",
    "ave = sum(molar_mass[1::2])/len(molar_mass[1::2])\n",
    "print(ave)"
   ]
  },
  {
   "cell_type": "code",
   "execution_count": null,
   "id": "424ffffe-2f08-4f83-b404-4162d0490fac",
   "metadata": {},
   "outputs": [],
   "source": [
    "import statistics\n",
    "print(statistics.mean(molar_mass[1::2]))"
   ]
  },
  {
   "cell_type": "markdown",
   "id": "5368c653-2bcc-4682-ac6f-e5f1d1362405",
   "metadata": {},
   "source": [
    "# Statistics module (built-in)\n",
    "The statistics module is part of Pythons standard (built-in) library and is useful for small data sets.  We will be using Numpy and Pandas for larger data sets.  But first things first.\n",
    "| Function Name          | Description |\n",
    "|------------------------|-------------|\n",
    "| `statistics.mean(data)` | Returns the arithmetic mean of a numeric dataset. |\n",
    "| `statistics.median(data)` | Returns the median (middle value) of numeric data. |\n",
    "| `statistics.median_low(data)` | Returns the lower median of numeric data. |\n",
    "| `statistics.median_high(data)` | Returns the higher median of numeric data. |\n",
    "| `statistics.mode(data)` | Returns the most common value in a dataset. |\n",
    "| `statistics.multimode(data)` | Returns a list of the most frequently occurring values. |\n",
    "| `statistics.variance(data, xbar=None)` | Returns the sample variance of a dataset. |\n",
    "| `statistics.stdev(data, xbar=None)` | Returns the sample standard deviation. |\n",
    "| `statistics.pvariance(data, mu=None)` | Returns the population variance. |\n",
    "| `statistics.pstdev(data, mu=None)` | Returns the population standard deviation. |\n",
    "| `statistics.fmean(data)` | Returns the arithmetic mean as a floating-point number (faster than `mean()`). |\n",
    "| `statistics.geometric_mean(data)` | Returns the geometric mean of positive numbers. |\n",
    "| `statistics.harmonic_mean(data)` | Returns the harmonic mean of positive numbers. |\n",
    "| `statistics.quantiles(data, n=4, method='exclusive')` | Divides data into equal intervals (default is quartiles). |\n",
    "| `statistics.correlation(x, y)` | Computes Pearson’s correlation coefficient between two datasets. |\n",
    "| `statistics.covariance(x, y)` | Computes the covariance between two datasets. |\n",
    "| `statistics.linear_regression(x, y)` | Computes slope and intercept of simple linear regression. |\n",
    "| `statistics.normalvariate(mu, sigma)` | Returns a random float from a normal distribution. |\n",
    "| `statistics.gauss(mu, sigma)` | Generates a random number based on the Gaussian distribution. |"
   ]
  },
  {
   "cell_type": "code",
   "execution_count": null,
   "id": "e42dc4b8-1f29-4545-84e9-1e1619961478",
   "metadata": {},
   "outputs": [],
   "source": [
    "noble_gases = [\"He\", \"Ne\", \"Ar\", \"Kr\", \"Xe\", \"Rn\", \"Og\"]\n",
    "ng_atomic_masses = [4.0026, 20.180, 39.948, 83.798, 131.293, 222, 294]\n",
    "ng_atomic_numbers = [2, 10, 18, 36, 54, 86, 118]  # Atomic numbers\n",
    "ng_boiling_points = [4.22, 27.07, 87.30, 119.93, 165.03, 211.3, None]  # K (Og unknown)"
   ]
  },
  {
   "cell_type": "code",
   "execution_count": null,
   "id": "cadaefed-66aa-4f28-8b03-7f89c662318d",
   "metadata": {},
   "outputs": [],
   "source": [
    "print(f\"Noble gases: \\t{noble_gases} \\nAtomic masses: \\t{ng_atomic_masses} \\\n",
    "\\nAtomic numbers: {ng_atomic_numbers}\\nBoiling Points: {ng_boiling_points} \")"
   ]
  },
  {
   "cell_type": "code",
   "execution_count": null,
   "id": "2712d709-2684-4dd8-99d7-b116cf376b86",
   "metadata": {},
   "outputs": [],
   "source": [
    "# Using Indexing\n",
    "print(f\" The boiling point of {noble_gases[1]} is {ng_boiling_points[1]}\")"
   ]
  },
  {
   "cell_type": "markdown",
   "id": "360b0d64-cfa7-4d97-9fe7-864f8d9179e7",
   "metadata": {},
   "source": [
    "#### For Loop\n",
    "Since a list is iterable, we can set up a for loop to go through each item and pull out a value by its index number.  We will cover loops and other control structures later, but I want you to see how a we can go through each item using its index number"
   ]
  },
  {
   "cell_type": "code",
   "execution_count": null,
   "id": "e757b284-f0a3-4fec-9f50-8de6f7349185",
   "metadata": {},
   "outputs": [],
   "source": [
    "# Loop through each index and print the name and boiling point\n",
    "noble_gases = [\"He\", \"Ne\", \"Ar\", \"Kr\", \"Xe\", \"Rn\", \"Og\"]\n",
    "ng_boiling_points = [4.22, 27.07, 87.3, 119.93, 165.03, 211.3, None] \n",
    "\n",
    "for i in range(len(noble_gases)):\n",
    "    if ng_boiling_points[i] is None:\n",
    "        print(f\"The boiling point of {noble_gases[i]} is unknown.\")\n",
    "    else:\n",
    "        print(f\"The boiling point of {noble_gases[i]} is {ng_boiling_points[i]} K.\")\n"
   ]
  },
  {
   "cell_type": "markdown",
   "id": "36dbc656-2b1d-4481-80c6-cd9069e3416a",
   "metadata": {},
   "source": [
    "## Combining lists and zip() \n",
    "The following code creates an empty list, then creates a list of tuples (the next topic), and then appends the tuples to the empty list\n"
   ]
  },
  {
   "cell_type": "code",
   "execution_count": null,
   "id": "3d407752-8fc5-489b-8d5c-9bf14df56d7f",
   "metadata": {},
   "outputs": [],
   "source": [
    "noble_gases = [\"He\", \"Ne\", \"Ar\", \"Kr\", \"Xe\", \"Rn\", \"Og\"]\n",
    "ng_boiling_points = [4.22, 27.07, 87.3, 119.93, 165.03, 211.3, None] \n",
    "\n",
    "combined_list = []\n",
    "for gas, bp in zip(noble_gases, ng_boiling_points):\n",
    "    combined_list.append(gas)\n",
    "    combined_list.append(bp)\n",
    "\n",
    "print(combined_list)\n"
   ]
  },
  {
   "cell_type": "markdown",
   "id": "bc0ba9fb-86c6-45af-9b4e-a90978aedafa",
   "metadata": {},
   "source": [
    "Before getting into the above code and tuples, lets try and take the average of the molar masses in the above list of repeating symbols and masses.  We could try the following code, but the last value is non-numeric. In later modules we will see more advanced ways of handling non-numeric values"
   ]
  },
  {
   "cell_type": "code",
   "execution_count": null,
   "id": "5f48cfc0-7818-4349-8d20-bfd1d2f615b7",
   "metadata": {},
   "outputs": [],
   "source": [
    "# The following gives an error due to a non-numeric value\n",
    "import statistics\n",
    "print(statistics.mean(combined_list[1::2]))"
   ]
  },
  {
   "cell_type": "code",
   "execution_count": null,
   "id": "ea82b2cd-65ce-4efb-8368-66941f7267eb",
   "metadata": {},
   "outputs": [],
   "source": [
    "cleaned_molarmass = [x for x in combined_list[1::2] if x is not None]\n",
    "average = statistics.mean(cleaned_molarmass)\n",
    "print(average)  \n"
   ]
  },
  {
   "cell_type": "markdown",
   "id": "740561df-a1fe-4bb2-ade5-9348ef52ab27",
   "metadata": {},
   "source": [
    "# Tuples\n",
    "Tuples are a container data type similiar to a list, but are **immutable** (unchangeable), that is, once created they can not be changed.  **Tuples are defined with parenthesis()** while **lists are defined with brackets[]**.\n",
    "## Key Features of Tuples\n",
    "  - **Immutable** – Cannot be changed after creation.\n",
    "  - **Ordered** – Elements remain in a fixed sequence.\n",
    "  - **Indexed** – Can access elements using indexing (like lists).\n",
    "  - **sliced** - Can be sliced (like lists).\n",
    "  - **Allow duplicates** – Can contain repeated values.\n",
    "  - **Can store multiple data types** – Similar to lists.\n"
   ]
  },
  {
   "cell_type": "markdown",
   "id": "1cf3b245-0bec-4014-8c47-41a8b292ac44",
   "metadata": {},
   "source": [
    "## Creating Tuples\n",
    "1. Using Parentheses (`()`)  \n",
    "   ```python\n",
    "   my_tuple = (1, 2, 3)\n",
    "   ```\n",
    "\n",
    "2. Without Parentheses (Implicit Tuple Creation)\n",
    "   ```python\n",
    "   my_tuple = 1, 2, 3\n",
    "   ```\n",
    "\n",
    "3. Using the `tuple()` Constructor  \n",
    "   The `tuple()` constructor can convert an iterable into a tuple.\n",
    "   ```python\n",
    "   my_tuple = tuple([1, 2, 3])  # Converts a list to a tuple\n",
    "   my_tuple2 = tuple(\"abc\")     # Converts a string to a tuple of characters\n",
    "   my_tuple3 = tuple(range(3))  # (0, 1, 2)\n",
    "   ```\n",
    "\n",
    "4. Creating an Empty Tuple  \n",
    "   ```python\n",
    "   empty_tuple = ()\n",
    "   empty_tuple2 = tuple()  # Equivalent to ()\n",
    "   ```\n",
    "\n",
    "5. Single-Element Tuples (Comma Required!)  \n",
    "   ```python\n",
    "   single_element_tuple = (42,)  # The comma makes it a tuple\n",
    "   not_a_tuple = (42)  # This is just an integer\n",
    "   ```\n",
    "\n",
    "6. Zip() is not a tuple() constructor, but pairs elements from an iterable into pairs of tuples"
   ]
  },
  {
   "cell_type": "code",
   "execution_count": 1,
   "id": "0c716c48-816e-4e16-985e-b062db480627",
   "metadata": {},
   "outputs": [
    {
     "name": "stdout",
     "output_type": "stream",
     "text": [
      "Zipped List of Tuples:\n",
      "[('He', 4.22), ('Ne', 27.07), ('Ar', 87.3), ('Kr', 119.93), ('Xe', 165.03), ('Rn', 211.3), ('Og', None)]\n"
     ]
    }
   ],
   "source": [
    "noble_gases = [\"He\", \"Ne\", \"Ar\", \"Kr\", \"Xe\", \"Rn\", \"Og\"]\n",
    "ng_boiling_points = [4.22, 27.07, 87.3, 119.93, 165.03, 211.3, None]\n",
    "\n",
    "# Convert zip object to a list of tuples\n",
    "zipped_list = list(zip(noble_gases, ng_boiling_points))\n",
    "\n",
    "print(\"Zipped List of Tuples:\")\n",
    "print(zipped_list)"
   ]
  },
  {
   "cell_type": "code",
   "execution_count": 2,
   "id": "5bfc4fca-b298-419c-bb99-961c320128db",
   "metadata": {},
   "outputs": [
    {
     "name": "stdout",
     "output_type": "stream",
     "text": [
      "Tuples from zip(noble_gases, ng_boiling_points):\n",
      "('He', 4.22)\n",
      "('Ne', 27.07)\n",
      "('Ar', 87.3)\n",
      "('Kr', 119.93)\n",
      "('Xe', 165.03)\n",
      "('Rn', 211.3)\n",
      "('Og', None)\n"
     ]
    }
   ],
   "source": [
    "print(\"Tuples from zip(noble_gases, ng_boiling_points):\")\n",
    "for pair in zip(noble_gases, ng_boiling_points):\n",
    "    print(pair)"
   ]
  },
  {
   "cell_type": "markdown",
   "id": "c3e57f25-fcdd-4306-b655-5043d9873441",
   "metadata": {},
   "source": [
    "##Working with Tuples\n",
    "### 1. Accessing Tuple elements (Indexing)\n",
    "Tuples use zero based indexing"
   ]
  },
  {
   "cell_type": "code",
   "execution_count": null,
   "id": "e8075b3a-ab37-479c-ac30-325e6b82fd7f",
   "metadata": {},
   "outputs": [],
   "source": [
    "noble_gases = (\"He\", \"Ne\", \"Ar\", \"Kr\", \"Xe\", \"Rn\", \"Og\")\n",
    "\n",
    "print(noble_gases[0])  # 'He'\n",
    "print(noble_gases[-1]) # 'Og' (Last element)\n"
   ]
  },
  {
   "cell_type": "markdown",
   "id": "4d6fa36c-4b1d-4eee-a0a2-d84d2b4acb52",
   "metadata": {},
   "source": [
    "### 2. Slicing Tuples"
   ]
  },
  {
   "cell_type": "code",
   "execution_count": null,
   "id": "7236b81d-2145-4071-bdfb-0e5dab3bf797",
   "metadata": {},
   "outputs": [],
   "source": [
    "print(noble_gases)\n",
    "print(noble_gases[1:4])  # ('Ne', 'Ar', 'Kr')  -> Extracts elements 1 to 3\n",
    "print(noble_gases[:3])   # ('He', 'Ne', 'Ar')  -> First three elements\n",
    "print(noble_gases[4:])   # ('Xe', 'Rn', 'Og')  -> From index 4 to end\n"
   ]
  },
  {
   "cell_type": "markdown",
   "id": "8305eac5-dcea-41b5-b13b-a81a9807f9b2",
   "metadata": {},
   "source": [
    "### 3. Iterating Through a Tuple"
   ]
  },
  {
   "cell_type": "code",
   "execution_count": null,
   "id": "d1170c21-c56a-4659-8664-d257ed0825f6",
   "metadata": {},
   "outputs": [],
   "source": [
    "for gas in noble_gases:\n",
    "    print(gas)\n"
   ]
  },
  {
   "cell_type": "markdown",
   "id": "a038e7df-b7b4-4604-a248-626acf961ca0",
   "metadata": {},
   "source": [
    "### 4.Tuple Unpacking\n",
    "Python allows assigning tuples to multiple variables"
   ]
  },
  {
   "cell_type": "code",
   "execution_count": null,
   "id": "96a9addc-5c34-4e1e-8b5a-8ad539d89d28",
   "metadata": {},
   "outputs": [],
   "source": [
    "element1, element2, element3 = (\"H\", \"He\", \"Li\")\n",
    "\n",
    "print(element1)  # H\n",
    "print(element2)  # He\n",
    "print(element3)  # Li\n"
   ]
  },
  {
   "cell_type": "markdown",
   "id": "8b7e9927-8222-43de-bad2-90144dcdef5d",
   "metadata": {},
   "source": [
    "### 5. Using zip() to Create Tuples"
   ]
  },
  {
   "cell_type": "code",
   "execution_count": null,
   "id": "5bc5c273-73d0-4e26-8ee0-82d3cb38a2ff",
   "metadata": {},
   "outputs": [],
   "source": [
    "noble_gases = (\"He\", \"Ne\", \"Ar\", \"Kr\", \"Xe\", \"Rn\", \"Og\")\n",
    "boiling_points = (4.22, 27.07, 87.3, 119.93, 165.03, 211.3, None)\n",
    "\n",
    "zipped_data = list(zip(noble_gases, boiling_points))\n",
    "print(zipped_data)\n"
   ]
  },
  {
   "cell_type": "code",
   "execution_count": null,
   "id": "069617b1-7eba-4c74-8e9a-8d7c86f4e5ea",
   "metadata": {},
   "outputs": [],
   "source": [
    "names = [\"Hydrogen\", \"Helium\", \"Lithium\"]\n",
    "symbols = [\"H\", \"He\", \"Li\"]\n",
    "atomic_weights = [1.008, 4.0026, 6.94]\n",
    "\n",
    "zipped_data = list(zip(names, symbols, atomic_weights))\n",
    "print(zipped_data)\n"
   ]
  },
  {
   "cell_type": "markdown",
   "id": "b623928f-5392-4296-8d1a-05cd14b8a271",
   "metadata": {},
   "source": [
    "### 7. Tuple unpacking and zip(*zipped_data)\n"
   ]
  },
  {
   "cell_type": "code",
   "execution_count": null,
   "id": "3d128587-d3f9-4008-926e-2cc455899272",
   "metadata": {},
   "outputs": [],
   "source": [
    "m_names, m_symbols, m_atomic_weights=zip(*zipped_data)\n",
    "print(m_names)\n",
    "#print(m_symbols)\n",
    "#print(m_atomic_weights)"
   ]
  }
 ],
 "metadata": {
  "kernelspec": {
   "display_name": "Python(py4sci)",
   "language": "python",
   "name": "py4sci"
  },
  "language_info": {
   "codemirror_mode": {
    "name": "ipython",
    "version": 3
   },
   "file_extension": ".py",
   "mimetype": "text/x-python",
   "name": "python",
   "nbconvert_exporter": "python",
   "pygments_lexer": "ipython3",
   "version": "3.12.8"
  }
 },
 "nbformat": 4,
 "nbformat_minor": 5
}
