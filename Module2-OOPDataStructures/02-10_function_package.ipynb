{
 "cells": [
  {
   "cell_type": "markdown",
   "id": "94b108dc-bb68-4c06-9f65-4456ab309d77",
   "metadata": {},
   "source": [
    "Lesson Objective\n",
    "1. Formally go over how to make a custom function\n",
    "2. Create a python file inside of a package directory that contains functions that can be imported into any jupyter notebook"
   ]
  },
  {
   "cell_type": "markdown",
   "id": "f46901a5-9d65-4863-bd20-2146c314783a",
   "metadata": {},
   "source": [
    "# 1. Anatomy of a Function\n",
    "User defined functioins are blocks of code that start with\n",
    "\n",
    "`def function_name(parameters):`\n",
    "```python\n",
    "def function_name(parameters):\n",
    "    \"\"\"Docstring: Describes what the function does\"\"\"\n",
    "    # Function body (code)\n",
    "    return output  # Optional, returns a value\n",
    "```\n",
    "Break it down:\n",
    "| Component        | Meaning |\n",
    "|-----------------|---------|\n",
    "| `def`          | Keyword that starts a function definition |\n",
    "| `function_name` | The function’s name (follows variable naming rules) |\n",
    "| `parameters`   | Inputs that modify the function’s behavior |\n",
    "| `\"\"\"Docstring\"\"\"` | Optional documentation describing what the function does |\n",
    "| Function body  | The actual code that runs when the function is called |\n",
    "| `return`       | Sends a value back to the caller (optional) |\n",
    "\n",
    "You call a function with its name, and all functions must be followed by ()."
   ]
  },
  {
   "cell_type": "markdown",
   "id": "7edf1e5f-fa0c-415e-b3a1-392dcdd24ba2",
   "metadata": {},
   "source": [
    "## Simple Function\n",
    "celsius to kelvin fct\n",
    "```python\n",
    "def celsius_to_kelvin(temp_c):\n",
    "    \"\"\"Converts Celsius to Kelvin\"\"\"\n",
    "    temp_k = temp_c + 273.15\n",
    "    return temp_k\n",
    "```\n"
   ]
  },
  {
   "cell_type": "code",
   "execution_count": null,
   "id": "5666c35d-19ea-46f9-82ef-a590ae97109b",
   "metadata": {},
   "outputs": [],
   "source": [
    "def celsius_to_kelvin(temp_c):\n",
    "    \"\"\"Converts Celsius to Kelvin\"\"\"\n",
    "    temp_k = temp_c + 273.15\n",
    "    return temp_k\n"
   ]
  },
  {
   "cell_type": "code",
   "execution_count": null,
   "id": "e47b4dc3-93e0-46d1-a6b6-1e01bf236bc4",
   "metadata": {},
   "outputs": [],
   "source": [
    "celsius_to_kelvin(0.0)"
   ]
  },
  {
   "cell_type": "markdown",
   "id": "b281abf1-184c-494c-9007-f527f3a8e685",
   "metadata": {},
   "source": [
    "## Function with Multiple Parameters\n",
    "```python\n",
    "def moles_to_mass(moles, molar_mass):\n",
    "    \"\"\"Calculates mass (g) from moles and molar mass (g/mol)\"\"\"\n",
    "    mass = moles * molar_mass\n",
    "    return mass\n",
    "```"
   ]
  },
  {
   "cell_type": "code",
   "execution_count": null,
   "id": "868d3d9b-f415-4238-b8a0-8e55c6036588",
   "metadata": {},
   "outputs": [],
   "source": [
    "def moles_to_mass(moles, molar_mass):\n",
    "    \"\"\"Calculates mass (g) from moles and molar mass (g/mol)\"\"\"\n",
    "    mass = moles * molar_mass\n",
    "    return mass\n",
    "moles_to_mass(2,19.015)"
   ]
  },
  {
   "cell_type": "markdown",
   "id": "5a432ed2-9a90-43d2-a7ab-9da20459f8de",
   "metadata": {},
   "source": [
    "## Functions with input()\n",
    "Here we generate the arguments that are passed to the function as parameters through input statements:\n",
    "**Note: Jupyter does not move to next cell after an input** To move you should hit **\\<Esc\\>** and the **down arrow**.\n",
    "\n"
   ]
  },
  {
   "cell_type": "code",
   "execution_count": null,
   "id": "85f76e0f-d650-4fe7-b510-c0dcd0302a8b",
   "metadata": {},
   "outputs": [],
   "source": [
    "def moles_to_mass():\n",
    "    \"\"\"Calculates mass (g) from moles and molar mass (g/mol)\"\"\"\n",
    "    moles = float(input(\"Enter moles of sample: \"))\n",
    "    molar_mass = float(input(\"Enter molar mass of sample: \")) \n",
    "                \n",
    "    mass = moles * molar_mass\n",
    "    return mass\n",
    "\n",
    "moles_to_mass()"
   ]
  },
  {
   "cell_type": "code",
   "execution_count": null,
   "id": "a77048f4-479f-450c-834e-1d47b40879bc",
   "metadata": {},
   "outputs": [],
   "source": [
    "def moles_to_mass(moles, molar_mass):\n",
    "    \"\"\"Calculates mass (g) from moles and molar mass (g/mol)\"\"\"\n",
    "    mass = moles * molar_mass\n",
    "    return mass\n",
    "\n",
    "# Get input from the user\n",
    "moles = float(input(\"Enter moles of sample: \"))\n",
    "molar_mass = float(input(\"Enter molar mass of sample (g/mol): \"))\n",
    "\n",
    "# Use the function in a print statement\n",
    "print(f\"{moles} moles of a substance with a molar mass of {molar_mass} g/mol weighs {moles_to_mass(moles, molar_mass)} grams.\")\n"
   ]
  },
  {
   "cell_type": "markdown",
   "id": "df655521-592d-4754-b2de-292ea7642018",
   "metadata": {},
   "source": [
    "## Using Default inputs"
   ]
  },
  {
   "cell_type": "code",
   "execution_count": null,
   "id": "bbc37c32-647a-4638-9ffd-164295c0dbe8",
   "metadata": {},
   "outputs": [],
   "source": [
    "def moles_to_mass():\n",
    "    \"\"\"Calculates mass (g) from moles and molar mass (g/mol)\"\"\"\n",
    "    while True:\n",
    "        user_input = input(\"Enter moles of sample (default: 2): \")\n",
    "        if user_input == \"\":\n",
    "            moles = 2.0\n",
    "            break\n",
    "        try:\n",
    "            moles = float(user_input)\n",
    "            break\n",
    "        except ValueError:\n",
    "            print(\"Invalid input. Please enter a number or press Enter for default.\")\n",
    "\n",
    "    while True:\n",
    "        user_input = input(\"Enter molar mass of sample (g/mol, default: 18.015): \")\n",
    "        if user_input == \"\":\n",
    "            molar_mass = 18.015\n",
    "            break\n",
    "        try:\n",
    "            molar_mass = float(user_input)\n",
    "            break\n",
    "        except ValueError:\n",
    "            print(\"Invalid input. Please enter a number or press Enter for default.\")\n",
    "\n",
    "    mass = moles * molar_mass\n",
    "    return moles, molar_mass, mass\n",
    "\n",
    "# Call the function and unpack the returned values\n",
    "moles, molar_mass, mass = moles_to_mass()\n",
    "\n",
    "# Use the returned values in a print statement\n",
    "print(f\"{moles} moles of a substance with a molar mass of {molar_mass} g/mol weighs {mass} grams.\")\n"
   ]
  },
  {
   "cell_type": "markdown",
   "id": "17d299fc-ffbe-498c-8a2a-b313934343ed",
   "metadata": {},
   "source": [
    "The next cell uses two functions, first you create a function for obtaining the input that has a default value, and then you use that function in your moles to mass function"
   ]
  },
  {
   "cell_type": "code",
   "execution_count": null,
   "id": "ced311ef-27c7-475d-bd87-47f9c110687f",
   "metadata": {},
   "outputs": [],
   "source": [
    "def get_float_input(prompt, default):\n",
    "    \"\"\"Gets a float input from the user with a default value.\"\"\"\n",
    "    while True:\n",
    "        user_input = input(f\"{prompt} (default: {default}): \")\n",
    "        if user_input == \"\":\n",
    "            return default\n",
    "        try:\n",
    "            return float(user_input)\n",
    "        except ValueError:\n",
    "            print(\"Invalid input. Please enter a number or press Enter for default.\")\n",
    "\n",
    "def moles_to_mass():\n",
    "    \"\"\"Calculates mass (g) from moles and molar mass (g/mol)\"\"\"\n",
    "    moles = get_float_input(\"Enter moles of sample\", 2.0)\n",
    "    molar_mass = get_float_input(\"Enter molar mass of sample (g/mol)\", 18.015)\n",
    "                \n",
    "    mass = moles * molar_mass\n",
    "    return moles, molar_mass, mass\n",
    "\n",
    "# Call the function and unpack the returned values\n",
    "moles, molar_mass, mass = moles_to_mass()\n",
    "\n",
    "# Use the returned values in a print statement\n",
    "print(f\"{moles} moles of a substance with a molar mass of {molar_mass} g/mol weighs {mass} grams.\")\n"
   ]
  },
  {
   "cell_type": "markdown",
   "id": "cb611899-a736-4810-b7ed-8e9d46b2954d",
   "metadata": {},
   "source": [
    "# Packages"
   ]
  },
  {
   "cell_type": "markdown",
   "id": "af99a6ed-bd46-4d9d-b887-85b7cc9555c9",
   "metadata": {},
   "source": [
    "In this module we will create our own primitive python package where we can create custom functions that can be imported into any Jupyter Notebook. The only restriction is the notebook must be run in an environment that has all the dependent packages that any of our functions use. \n",
    "\n",
    "Directory Structure\n",
    "```\n",
    "~/my_packages/\n",
    "│── pack1/\n",
    "│   ├── setup.py       # Pack1 setup file\n",
    "│   ├── pyproject.toml # Pack1 build config\n",
    "│   ├── __init__.py\n",
    "│   ├── my_fun1.py\n",
    "│\n",
    "│── pack2/\n",
    "│   ├── setup.py       # Pack2 setup file\n",
    "│   ├── pyproject.toml # Pack2 build config\n",
    "│   ├── __init__.py\n",
    "│   ├── my_fun2.py\n",
    "```\n"
   ]
  },
  {
   "cell_type": "markdown",
   "id": "1e0c0882-5bb5-4c72-9e6c-b68e6ba1a954",
   "metadata": {},
   "source": [
    "## 2.1: Create Package Directory\n",
    "Navigate to your home directory in the terminal:\n",
    "```bash\n",
    "cd ~\n",
    "```\n",
    "Create a folder called `my_packages/` to store your custom packages in, and then a subdirectory `pack1/` for your first package:\n",
    "```bash\n",
    "mkdir -p my_packages/pack1\n",
    "```\n",
    "- -p stands for parent directory\n",
    "- First, it checks if `my_packages` exists. If not, it creates it.\n",
    "- Then, it creates `pack1` inside `my_packages`.\n"
   ]
  },
  {
   "cell_type": "markdown",
   "id": "f841c56d-710a-4981-ae3b-29be04079537",
   "metadata": {},
   "source": [
    "## 2.2: Create required files\n",
    "\n",
    "### create `__init__.py` file\n",
    "This marks `pack1/` as a package and not a normal directory\n",
    "```bash\n",
    "touch my_packages/pack1/__init__.py\n",
    "```\n",
    "Inside of this file you can include import statements.  Then if you run a function in another notebook it will work if that notebook does not have it imported.  Two of our funcitons use numpy so add the following to the __init__.py file:\n",
    "```python\n",
    "import numpy as np\n",
    "```\n",
    "\n",
    "\n",
    "### create my_fun1.py \n",
    "Inside pack1 place the python file that has the functions you want to be able to import.  We will call this my_fun.py for my functions. This should not be a jupyter notebook but a **\\*.py** file, and I have provided one that contains the following functions\n",
    "- `head1D(arr, n=5)` - returns head of 1D numpy array\n",
    "- `head(arr, n=5, axis=0)` - returns head of specified axis of nD numpy array\n",
    "- `rgb2name(r, g, b)` - returns closest color based on rgb codes from 0 to 1.\n",
    "\n"
   ]
  },
  {
   "cell_type": "markdown",
   "id": "a4de5689-0f36-4a00-91d3-b4d3285cb6b8",
   "metadata": {},
   "source": [
    "## 2.3: Create setup.py\n",
    "A `setup.py` file is the standard way to define a Python package so it can be installed with `pip`.\n",
    "\n",
    "\n",
    "cd ~/my_packages/pack1\n",
    "\n",
    "Create a setup.py file in this location\n",
    "```python\n",
    "from setuptools import setup\n",
    "\n",
    "setup(\n",
    "    name=\"pack1\",\n",
    "    version=\"0.1\",\n",
    "    py_modules=[\"my_fun1\"],  # Register individual Python files\n",
    "    package_dir={\"\": \".\"},  # Look in the current directory\n",
    "    author=\"Your Name\",\n",
    "    description=\"Custom functions for our Python class\",\n",
    ")\n",
    "\n",
    "```\n",
    "What Each Line Does\n",
    "\n",
    "```python\n",
    "from setuptools import setup \n",
    "```\n",
    "- setuptools is a standard python package management library\n",
    "- provides tools for installing, managing and distributing python packages\n",
    "- setup() defines the package details\n",
    "- allows us to install the package with `pip`\n",
    "\n",
    "```python\n",
    "setup(\n",
    "    name='pack1' # specifies name of package, you would use \"pip install pack1\" to install it\n",
    "    version='0.1' # follow \"Semantic Versioning\" (major.minor.patch)\n",
    "    py_modules=[\"my_fun1\"] # registers module so it can be imported (import my_fun1)\n",
    "    #py_modules=[\"my_fun1\",\"my_fun2\"] - allows you to register multiple modules in a package\n",
    "    package_dir={\"\":\".\"}, # tells setuptools that the modules are in the current \".\" directory\n",
    "    author=\"Your Name\" # Will appear on PyPi package page and in metadata\n",
    "    description=\"Custom functions for our Python class\",# pip show pack1 will display this message\n",
    ")\n"
   ]
  },
  {
   "cell_type": "markdown",
   "id": "496dbb8f-bd5f-49ab-9c2d-5d07e51ab074",
   "metadata": {},
   "source": [
    "## 2.4: Create pyproject.toml file\n",
    "Insider `~\\my_packages\\pack1` create a file called pyproject.toml with the following code.\n",
    "```toml\n",
    "[build-system]\n",
    "requires = [\"setuptools>=64\", \"wheel\"]\n",
    "build-backend = \"setuptools.build_meta\"\n",
    "```\n",
    "\n",
    "TOML stans for \"Tom’s Obvious, Minimal Language\", and a `pyproject.toml` file is a modern configuration file that tells pip how to build a python package. When you run `pip install -e .`, it reads the [build-system] to determine which tools are needed to install the package, and how to build it."
   ]
  },
  {
   "cell_type": "markdown",
   "id": "40038c7c-4b6f-4667-aa4e-835e1ffcf76b",
   "metadata": {},
   "source": [
    "## 2.5: Install the Package\n",
    "**Activate the Conda Environment you want to install the package in\n",
    "```bash\n",
    "conda activate environment_you_want_to_use\n",
    "```\n",
    "\n",
    "First you need to install the dependencies for the .toml file\n",
    "```bash\n",
    "conda install -c conda-forge setuptools wheel\n",
    "```\n",
    "Navigate to the directory you are making your package with, so you are in the same directory as the pyroject.toml and setup.py files are, and run:\n",
    "\n",
    "```bash\n",
    " pip install -e . --config-settings editable_mode=compat\n",
    "```\n",
    "\n",
    "Note there is a dot after -e to indicate current directory\n",
    "\n",
    "Pip reads `setup.py`, installs dependencies, and registers the package. This registers pack1 as an importable package, with my_fun1 being an importable module that can be used in any notebook\n",
    "\n",
    "Note, you need to do this in every environment you wish to use your package in.\n"
   ]
  },
  {
   "cell_type": "markdown",
   "id": "de30fefa-4c56-491d-9bd9-babed5dd6942",
   "metadata": {},
   "source": [
    "## 2.5: Test the Installation\n",
    "Open up a Jupyter notebook code cell and be sure you are in the environment you installed your package in and run the next line of code."
   ]
  },
  {
   "cell_type": "code",
   "execution_count": 7,
   "id": "c53aa5ec-85c0-4ec1-b76f-5e42e899ca5f",
   "metadata": {},
   "outputs": [
    {
     "data": {
      "text/plain": [
       "['HTML',\n",
       " '__builtins__',\n",
       " '__cached__',\n",
       " '__doc__',\n",
       " '__file__',\n",
       " '__loader__',\n",
       " '__name__',\n",
       " '__package__',\n",
       " '__spec__',\n",
       " 'display',\n",
       " 'head',\n",
       " 'head1D',\n",
       " 'np',\n",
       " 'oldscrollable_df',\n",
       " 'rgb2name',\n",
       " 'scrollable_box',\n",
       " 'scrollable_df',\n",
       " 'scrollable_pre']"
      ]
     },
     "execution_count": 7,
     "metadata": {},
     "output_type": "execute_result"
    }
   ],
   "source": [
    "from pack1 import my_fun1 as mf\n",
    "dir(mf)"
   ]
  },
  {
   "cell_type": "code",
   "execution_count": 8,
   "id": "8d980b51-23af-4b38-a64a-0e90e7d080be",
   "metadata": {},
   "outputs": [
    {
     "name": "stdout",
     "output_type": "stream",
     "text": [
      "Help on module pack1.my_fun1 in pack1:\n",
      "\n",
      "NAME\n",
      "    pack1.my_fun1\n",
      "\n",
      "FUNCTIONS\n",
      "    head(arr, n=5, axis=0)\n",
      "        Return the first n elements along the specified axis of an array.\n",
      "        \n",
      "        Parameters:\n",
      "        arr : array-like\n",
      "            The input array.\n",
      "        n : int, optional\n",
      "            Number of elements to return (default is 5).\n",
      "        axis : int, optional\n",
      "            The axis along which to return the elements (default is 0).\n",
      "        \n",
      "        Returns:\n",
      "        numpy.ndarray\n",
      "            A slice of the input array containing the first n elements along the specified axis.\n",
      "        Sample use:\n",
      "            result = head(my_array, n=3, axis=1)  # Get first 3 elements along axis 1\n",
      "    \n",
      "    head1D(arr, n=5)\n",
      "    \n",
      "    oldscrollable_df(df, height='400px', max_width='100%')\n",
      "        Scrollable HTML table view of a DataFrame that works in Jupyter and GitHub exports.\n",
      "    \n",
      "    rgb2name(r, g, b)\n",
      "        reb2name will take r(red), g(green) and B(blue) values as positional arguments on a scale of 0 to 1.0\n",
      "        and return the color they form when mixed\n",
      "    \n",
      "    scrollable_box(content, height='300px')\n",
      "        Display a list or string in a scrollable HTML box in Jupyter Lab or Notebook.\n",
      "        \n",
      "        Parameters:\n",
      "            content (str or list): The content to display.\n",
      "            height (str): Height of the scrollable area (e.g., '200px', '50vh').\n",
      "        \n",
      "        Returns:\n",
      "            None\n",
      "    \n",
      "    scrollable_df(df, height='400px', max_width='100%')\n",
      "        Scrollable HTML table view of a DataFrame that handles error messages and long strings.\n",
      "    \n",
      "    scrollable_pre(content, height='300px')\n",
      "        Display a long string (e.g., SDF file) in a scrollable, preformatted block.\n",
      "        \n",
      "        Parameters:\n",
      "            content (str): Multi-line text to display.\n",
      "            height (str): Scrollable box height (e.g., '300px').\n",
      "        \n",
      "        Returns:\n",
      "            None\n",
      "\n",
      "FILE\n",
      "    /home/rebelford/my_packages/pack1/my_fun1.py\n",
      "\n",
      "\n"
     ]
    }
   ],
   "source": [
    "#from my_fun1 import rgb2name\n",
    "\n",
    "help(mf)"
   ]
  },
  {
   "cell_type": "code",
   "execution_count": 9,
   "id": "97475d9f-93ea-4271-83b4-0c04b04bd40e",
   "metadata": {},
   "outputs": [
    {
     "name": "stdout",
     "output_type": "stream",
     "text": [
      "['display', 'head', 'head1D', 'oldscrollable_df', 'rgb2name', 'scrollable_box', 'scrollable_df', 'scrollable_pre']\n"
     ]
    }
   ],
   "source": [
    "from pack1 import my_fun1 as mf\n",
    "import inspect\n",
    "\n",
    "functions_list = [name for name, obj in inspect.getmembers(mf, inspect.isfunction)]\n",
    "print(functions_list)\n"
   ]
  },
  {
   "cell_type": "code",
   "execution_count": 11,
   "id": "04ca6869-f12f-4889-90d2-eb5ba4465b3d",
   "metadata": {},
   "outputs": [
    {
     "data": {
      "text/plain": [
       "'Red'"
      ]
     },
     "execution_count": 11,
     "metadata": {},
     "output_type": "execute_result"
    }
   ],
   "source": [
    "from pack1 import my_fun1 as mf\n",
    "mf.rgb2name(.8,.2,0)"
   ]
  },
  {
   "cell_type": "code",
   "execution_count": 13,
   "id": "ace061b5-4f0c-4fe0-b07e-4d6e845f1dc3",
   "metadata": {},
   "outputs": [
    {
     "name": "stdout",
     "output_type": "stream",
     "text": [
      "Red\n"
     ]
    }
   ],
   "source": [
    "from pack1 import my_fun1 as mf\n",
    "print(mf.rgb2name(.8,.2,0))\n"
   ]
  },
  {
   "cell_type": "code",
   "execution_count": 14,
   "id": "1dd6b6d2-3122-42f7-8bd4-f9b5d26398db",
   "metadata": {},
   "outputs": [
    {
     "name": "stdout",
     "output_type": "stream",
     "text": [
      "Help on function rgb2name in module pack1.my_fun1:\n",
      "\n",
      "rgb2name(r, g, b)\n",
      "    reb2name will take r(red), g(green) and B(blue) values as positional arguments on a scale of 0 to 1.0\n",
      "    and return the color they form when mixed\n",
      "\n"
     ]
    }
   ],
   "source": [
    "help(mf.rgb2name)"
   ]
  },
  {
   "cell_type": "markdown",
   "id": "d58f97d9-de7f-4046-a091-c168de313185",
   "metadata": {},
   "source": [
    "# 3. Uninstall the package\n",
    "\n",
    "```bash\n",
    "pip uninstall pack1\n",
    "```"
   ]
  }
 ],
 "metadata": {
  "kernelspec": {
   "display_name": "Python (py4sci)",
   "language": "python",
   "name": "py4sci"
  },
  "language_info": {
   "codemirror_mode": {
    "name": "ipython",
    "version": 3
   },
   "file_extension": ".py",
   "mimetype": "text/x-python",
   "name": "python",
   "nbconvert_exporter": "python",
   "pygments_lexer": "ipython3",
   "version": "3.10.17"
  }
 },
 "nbformat": 4,
 "nbformat_minor": 5
}
