{
 "cells": [
  {
   "cell_type": "markdown",
   "id": "4bb4fa97-5fc0-4bb2-b124-7cc91673ca2b",
   "metadata": {},
   "source": [
    "# Table of Built-In Modules\n",
    "| **Module**   | **Description**                                                                                                           |\n",
    "|--------------|---------------------------------------------------------------------------------------------------------------------------|\n",
    "| `math`       | Provides basic mathematical functions like `sqrt`, `sin`, and `cos`, as well as constants like `pi` and `e`.             |\n",
    "| `cmath`       | Provides basic complex mathematical functions to deal with complex number             |\n",
    "| `random`     | Offers functionality for generating random numbers, shuffling sequences, and picking random items from lists.            |\n",
    "| `os`         | Enables interaction with the operating system, such as working with files, directories, and environment variables.       |\n",
    "| `sys`        | Gives access to system-specific parameters and functions, including command-line arguments and the Python runtime.       |\n",
    "| `time`       | Provides time-related functions, like getting the current time, pausing execution (`sleep`), or measuring performance.    |\n",
    "| `datetime`   | Supplies classes for manipulating dates and times, including formatting and arithmetic with time objects.                |\n",
    "| `re`         | Implements regular expression operations for string searching, matching, and substitution.                               |\n",
    "| `json`       | Lets you read and write JSON (JavaScript Object Notation) data for easy data serialization and sharing.                  |\n",
    "| `csv`        | Simplifies reading and writing CSV (Comma-Separated Values) files.                                                       |\n",
    "| `Statistcs`  | Statistics methods and functions.                                                       |\n",
    "\n"
   ]
  },
  {
   "cell_type": "markdown",
   "id": "65115958-3f04-4c6c-b93f-cf287531995b",
   "metadata": {},
   "source": [
    "# Math Module\n",
    "## Overview\n",
    "The math module is a built-in module that comes with your installation of python. When you start Python it is not loaded into memory and you need to import it before you can use it with the statement:\n",
    "\n",
    "**import math**\n",
    "## Table of Common Math functions\n",
    "| Method/Constant | Description |\n",
    "|-----------------|-------------|\n",
    "| `math.ceil(x)` | Returns the smallest integer greater than or equal to x |\n",
    "| `math.floor(x)` | Returns the largest integer less than or equal to x |\n",
    "| `math.fabs(x)` | Returns the absolute value of x |\n",
    "| `math.factorial(x)` | Returns the factorial of x |\n",
    "| `math.gcd(a, b)` | Returns the greatest common divisor of a and b |\n",
    "| `math.exp(x)` | Returns e raised to the power of x |\n",
    "| `math.log(x[, base])` | Returns the logarithm of x to the given base (default is e) |\n",
    "| `math.log10(x)` | Returns the base-10 logarithm of x |\n",
    "| `math.pow(x, y)` | Returns x raised to the power of y |\n",
    "| `math.sqrt(x)` | Returns the square root of x |\n",
    "| `math.sin(x)` | Returns the sine of x (x in radians) |\n",
    "| `math.cos(x)` | Returns the cosine of x (x in radians) |\n",
    "| `math.tan(x)` | Returns the tangent of x (x in radians) |\n",
    "| `math.degrees(x)` | Converts angle x from radians to degrees |\n",
    "| `math.radians(x)` | Converts angle x from degrees to radians |\n",
    "| `math.pi` | Mathematical constant pi (3.141592...) |\n",
    "| `math.e` | Mathematical constant e (2.718281...) |\n"
   ]
  },
  {
   "cell_type": "markdown",
   "id": "f21796fb-b7db-487d-8e48-8ef535cf89a0",
   "metadata": {},
   "source": [
    "# Random Module\n",
    "| Function/Method | Description | Example |\n",
    "|---------------|-------------|---------|\n",
    "| `random.random()` | Returns a random float between 0 and 1. | `random.random() → 0.6734` |\n",
    "| `random.uniform(a, b)` | Returns a random float between `a` and `b`. | `random.uniform(10, 20) → 15.738` |\n",
    "| `random.randint(a, b)` | Returns a random integer between `a` and `b` (inclusive). | `random.randint(1, 6) → 4` |\n",
    "| `random.randrange(start, stop, step)` | Returns a random integer from `range(start, stop, step)`. | `random.randrange(0, 10, 2) → 4` |\n",
    "| `random.choice(seq)` | Returns a random element from a non-empty sequence. | `random.choice(['H', 'He', 'Li']) → 'Li'` |\n",
    "| `random.choices(seq, k=n)` | Returns `n` random elements from `seq`, with replacement. | `random.choices(['H', 'He', 'Li'], k=2) → ['He', 'Li']` |\n",
    "| `random.sample(seq, k=n)` | Returns `n` unique random elements from `seq` (no replacement). | `random.sample(range(10), k=3) → [2, 7, 5]` |\n",
    "| `random.shuffle(seq)` | Shuffles a list **in place**. | `random.shuffle(my_list)` |\n",
    "| `random.seed(n)` | Initializes the random number generator for reproducibility. | `random.seed(42)` |\n",
    "| `random.gauss(mu, sigma)` | Generates a random number from a normal distribution with mean `mu` and standard deviation `sigma`. | `random.gauss(0, 1) → 0.456` |\n",
    "| `random.expovariate(lambd)` | Returns a random number from an exponential distribution with rate parameter `lambd`. | `random.expovariate(1.5) → 0.762` |\n",
    "| `random.betavariate(alpha, beta)` | Returns a random number from a Beta distribution. | `random.betavariate(2, 5) → 0.23` |"
   ]
  },
  {
   "cell_type": "code",
   "execution_count": 1,
   "id": "c704060f-79fa-478d-a174-599f3c1603b0",
   "metadata": {},
   "outputs": [
    {
     "name": "stdout",
     "output_type": "stream",
     "text": [
      "Random float (0-1): 0.6394267984578837\n",
      "Random integer (1-10): 1\n",
      "Random float (10-20): 17.41550499759833\n",
      "Random element: He\n",
      "Random sample of 3 elements: ['He', 'B', 'Li']\n",
      "Shuffled elements: ['Be', 'He', 'Li', 'B', 'H']\n",
      "Random number from normal distribution (mean=0, std=1): 0.4347603342594289\n"
     ]
    }
   ],
   "source": [
    "import random\n",
    "\n",
    "# Seeding for reproducibility\n",
    "random.seed(42)\n",
    "\n",
    "# Generate random float\n",
    "print(\"Random float (0-1):\", random.random())\n",
    "\n",
    "# Generate random integer\n",
    "print(\"Random integer (1-10):\", random.randint(1, 10))\n",
    "\n",
    "# Generate a random float in a range\n",
    "print(\"Random float (10-20):\", random.uniform(10, 20))\n",
    "\n",
    "# Random choice from a list\n",
    "elements = ['H', 'He', 'Li', 'Be', 'B']\n",
    "print(\"Random element:\", random.choice(elements))\n",
    "\n",
    "# Random sample (without replacement)\n",
    "print(\"Random sample of 3 elements:\", random.sample(elements, 3))\n",
    "\n",
    "# Shuffle a list\n",
    "random.shuffle(elements)\n",
    "print(\"Shuffled elements:\", elements)\n",
    "\n",
    "# Normal distribution\n",
    "print(\"Random number from normal distribution (mean=0, std=1):\", random.gauss(0, 1))"
   ]
  },
  {
   "cell_type": "markdown",
   "id": "82831d19-dc58-4a50-9ecb-c95803df9f3e",
   "metadata": {},
   "source": [
    "# Statistics Functions\n",
    "## Overview\n",
    "The statistics module is part of Pythons standard (built-in) library and is useful for small data sets.  We will be using Numpy and Pandas for larger data sets.  But first things first.\n",
    "## Table of Common Math Methods\n",
    "\n",
    "| Function Name          | Description |\n",
    "|------------------------|-------------|\n",
    "| `statistics.mean(data)` | Returns the arithmetic mean of a numeric dataset. |\n",
    "| `statistics.median(data)` | Returns the median (middle value) of numeric data. |\n",
    "| `statistics.median_low(data)` | Returns the lower median of numeric data. |\n",
    "| `statistics.median_high(data)` | Returns the higher median of numeric data. |\n",
    "| `statistics.mode(data)` | Returns the most common value in a dataset. |\n",
    "| `statistics.multimode(data)` | Returns a list of the most frequently occurring values. |\n",
    "| `statistics.variance(data, xbar=None)` | Returns the sample variance of a dataset. |\n",
    "| `statistics.stdev(data, xbar=None)` | Returns the sample standard deviation. |\n",
    "| `statistics.pvariance(data, mu=None)` | Returns the population variance. |\n",
    "| `statistics.pstdev(data, mu=None)` | Returns the population standard deviation. |\n",
    "| `statistics.fmean(data)` | Returns the arithmetic mean as a floating-point number (faster than `mean()`). |\n",
    "| `statistics.geometric_mean(data)` | Returns the geometric mean of positive numbers. |\n",
    "| `statistics.harmonic_mean(data)` | Returns the harmonic mean of positive numbers. |\n",
    "| `statistics.quantiles(data, n=4, method='exclusive')` | Divides data into equal intervals (default is quartiles). |\n",
    "| `statistics.correlation(x, y)` | Computes Pearson’s correlation coefficient between two datasets. |\n",
    "| `statistics.covariance(x, y)` | Computes the covariance between two datasets. |\n",
    "| `statistics.linear_regression(x, y)` | Computes slope and intercept of simple linear regression. |\n",
    "| `statistics.normalvariate(mu, sigma)` | Returns a random float from a normal distribution. |\n",
    "| `statistics.gauss(mu, sigma)` | Generates a random number based on the Gaussian distribution. |\n"
   ]
  },
  {
   "cell_type": "markdown",
   "id": "b587198c-f695-4a71-b03c-e1b5437748b6",
   "metadata": {},
   "source": [
    "# Complex Math `cmath` Module\n",
    "\n",
    "## Overview \n",
    "- **Purpose:** Perform mathematical operations on complex numbers, such as trigonometric, logarithmic, and exponential functions.\n",
    "- **Key Difference from `math`:** While the `math` module raises errors for invalid operations on real numbers (e.g., square root of a negative number), `cmath` seamlessly handles such cases by returning a complex result.\n",
    "\n",
    "---\n",
    "\n",
    "## Table of Common cmath Functions\n",
    "Below is a table of common functions available in the `cmath` module that are not directly accessible with standard Python operations:\n",
    "\n",
    "| **Function**       | **Description**                                                                                     |\n",
    "|---------------------|-----------------------------------------------------------------------------------------------------|\n",
    "| `cmath.sqrt(z)`     | Returns the square root of the complex number `z`.                                                  |\n",
    "| `cmath.exp(z)`      | Returns the exponential of the complex number `z` (`e**z`).                                         |\n",
    "| `cmath.log(z, base)`| Returns the natural logarithm (base `e`) of `z`. Optionally, you can specify a different base.       |\n",
    "| `cmath.log10(z)`    | Returns the base-10 logarithm of `z`.                                                               |\n",
    "| `cmath.phase(z)`    | Returns the phase (angle in radians) of `z`.                                                        |\n",
    "| `cmath.polar(z)`    | Returns a tuple `(r, phi)` where `r` is the magnitude and `phi` is the phase of `z` in polar form.   |\n",
    "| `cmath.rect(r, phi)`| Converts polar coordinates `(r, phi)` to a complex number in rectangular form.                      |\n",
    "| `cmath.sin(z)`      | Returns the sine of `z`.                                                                            |\n",
    "| `cmath.cos(z)`      | Returns the cosine of `z`.                                                                          |\n",
    "| `cmath.tan(z)`      | Returns the tangent of `z`.                                                                         |\n",
    "| `cmath.asin(z)`     | Returns the inverse sine of `z`.                                                                    |\n",
    "| `cmath.acos(z)`     | Returns the inverse cosine of `z`.                                                                  |\n",
    "| `cmath.atan(z)`     | Returns the inverse tangent of `z`.                                                                 |\n",
    "| `cmath.sinh(z)`     | Returns the hyperbolic sine of `z`.                                                                 |\n",
    "| `cmath.cosh(z)`     | Returns the hyperbolic cosine of `z`.                                                               |\n",
    "| `cmath.tanh(z)`     | Returns the hyperbolic tangent of `z`.                                                              |\n",
    "\n",
    "---\n"
   ]
  },
  {
   "cell_type": "markdown",
   "id": "1b4c9bb4-b2c2-4d8f-b2c2-039a6561acf9",
   "metadata": {},
   "source": [
    "# Acknowledgements\n",
    "This content was developed with assistance from [Perplexity AI](https://www.perplexity.ai/) and [Chat GPT](https://chatgpt.com/). Multiple queries were made during the Fall 2024 and the Spring 2025."
   ]
  },
  {
   "cell_type": "code",
   "execution_count": null,
   "id": "d43601fa-6655-40a0-83d1-89bcd7626a99",
   "metadata": {},
   "outputs": [],
   "source": []
  }
 ],
 "metadata": {
  "kernelspec": {
   "display_name": "Python (py4sci)",
   "language": "python",
   "name": "py4sci"
  },
  "language_info": {
   "codemirror_mode": {
    "name": "ipython",
    "version": 3
   },
   "file_extension": ".py",
   "mimetype": "text/x-python",
   "name": "python",
   "nbconvert_exporter": "python",
   "pygments_lexer": "ipython3",
   "version": "3.10.17"
  }
 },
 "nbformat": 4,
 "nbformat_minor": 5
}
