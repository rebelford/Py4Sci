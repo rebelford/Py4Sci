{
 "cells": [
  {
   "cell_type": "markdown",
   "id": "b3d7dbe4-9966-4552-a8e3-5a1b8c94dc1f",
   "metadata": {},
   "source": [
    "# Assignment 5: \n",
    "Due at midnight, 3/3/2025\n",
    "\n",
    "Before attempting this assignment work through modules \n",
    "- 02-7_DB_ExternalDataStructures.ipynb\n",
    "- 02-8_API_ExternalDataStructures.ipynb\n",
    "\n",
    "\n",
    "## Part 1: \n",
    "Create a SQLite database of the PubChem Periodic Table called periodic_table.db and have in it a single table called PubChem and upload it to the Google Drive"
   ]
  },
  {
   "cell_type": "markdown",
   "id": "d999b730-7a4a-4c09-bc52-1c26f838309e",
   "metadata": {},
   "source": [
    "## Part 2:\n",
    "In the cell bellow print out the code that does:\n",
    "(a) prints out the tables in the database.\n",
    "(b) prints out the fields (columns) in the database\n",
    "(c) prints out the values of all fields for the first 10 records (rows) of the database."
   ]
  },
  {
   "cell_type": "code",
   "execution_count": null,
   "id": "8b524378-cd4e-404b-8af7-4acb2cfcf49f",
   "metadata": {},
   "outputs": [],
   "source": [
    "# Place the code below"
   ]
  },
  {
   "cell_type": "markdown",
   "id": "2359c87d-abba-4a9e-9d9f-138f5028bd62",
   "metadata": {},
   "source": [
    "## Part 3:\n",
    "Write the code to extract the atomic radius of nitrogen from the database"
   ]
  },
  {
   "cell_type": "code",
   "execution_count": 1,
   "id": "b98c76f0-dd6e-4e76-a448-974ac49ee275",
   "metadata": {},
   "outputs": [],
   "source": [
    "# Place the code below"
   ]
  },
  {
   "cell_type": "code",
   "execution_count": null,
   "id": "3a7215e5-0eeb-42bd-a336-66f997c25e7a",
   "metadata": {},
   "outputs": [],
   "source": []
  }
 ],
 "metadata": {
  "kernelspec": {
   "display_name": "Python(py4sci)",
   "language": "python",
   "name": "py4sci"
  },
  "language_info": {
   "codemirror_mode": {
    "name": "ipython",
    "version": 3
   },
   "file_extension": ".py",
   "mimetype": "text/x-python",
   "name": "python",
   "nbconvert_exporter": "python",
   "pygments_lexer": "ipython3",
   "version": "3.12.8"
  }
 },
 "nbformat": 4,
 "nbformat_minor": 5
}
