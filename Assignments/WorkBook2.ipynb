{
 "cells": [
  {
   "cell_type": "markdown",
   "id": "a7f93f9d-1970-4d9a-823e-fc911c6001e2",
   "metadata": {},
   "source": [
    "# Instructions\n",
    "Download this workbook to your computer and complete the assignment.  Once completed, upload it to your class Google Drive folder for grading.  In completing this workbook you will be required to make both code cells and markdown cells.  Do not write in the markdown cells with the question, but below them.  You need to make a code cell below each question that does what is required in the question.  Some of these may have more than one way to do, but it the question says use indexing, you must use indexing.  Feel free to have an AI help you, but do not paste the AIs response, only the code that solves the problem.\n",
    "\n",
    "**Due Midnight Sunday 2/9/2025**"
   ]
  },
  {
   "cell_type": "markdown",
   "id": "8a00bab2-ce74-48a5-8dfe-1e339998e20f",
   "metadata": {},
   "source": [
    "# Part 1: Lists\n",
    "## Exercise 1: Creating and Accessing Lists  \n",
    "**Objective:** Define a list and access specific elements using indexing.  \n",
    "\n",
    "**Task:**  \n",
    "1. Create a list called `isotopes_hydrogen` containing the three isotopes of hydrogen:  \n",
    "   - **\"Protium\", \"Deuterium\", \"Tritium\"**  \n",
    "2. Print the **first and last elements** in the list.  \n",
    "3. Use **negative indexing** to print `\"Deuterium\"`."
   ]
  },
  {
   "cell_type": "code",
   "execution_count": null,
   "id": "a7a665c9-0401-4f26-bb1e-a581c803356a",
   "metadata": {},
   "outputs": [],
   "source": []
  },
  {
   "cell_type": "markdown",
   "id": "6a32611a-43fa-4727-8bf5-a11aba720afd",
   "metadata": {},
   "source": [
    "## Exercise 2: List Slicing\n",
    "**Objective:** Extract subsets of data using slicing.  \n",
    "\n",
    "**Task:**  \n",
    "1. Given the list of isotopes for **carbon**, extract specific portions of the list:\n",
    "   ```python\n",
    "   isotopes_carbon = [\"Carbon-12\", \"Carbon-13\", \"Carbon-14\"]\n",
    "   ```\n",
    "2. Print:  \n",
    "   - The first two isotopes.\n",
    "   - Only `\"Carbon-14\"`.\n",
    "   - The entire list **in reverse order**.\n"
   ]
  },
  {
   "cell_type": "code",
   "execution_count": null,
   "id": "9909a94a-aeba-4a7c-bd92-159f0909c999",
   "metadata": {},
   "outputs": [],
   "source": []
  },
  {
   "cell_type": "markdown",
   "id": "f04a8b20-dd7c-43a1-a761-d3a3b935105c",
   "metadata": {},
   "source": [
    "## Exercise 3: Modifying Lists \n",
    "**Objective:** Demonstrate list mutability by adding and modifying elements.  \n",
    "\n",
    "**Task:**  \n",
    "1. Create a list of **alkaline earth metals**:  \n",
    "   ```python\n",
    "   alkaline_earth_metals = [\"Be\", \"Mg\", \"Ca\", \"Sr\"]\n",
    "   ```\n",
    "2. **Add \"Ba\" and \"Ra\"** to the list.  \n",
    "3. **Replace \"Mg\" with \"Magnesium\"**.  \n",
    "4. Print the modified list."
   ]
  },
  {
   "cell_type": "code",
   "execution_count": null,
   "id": "a4477fab-fd86-4b8b-bb48-21c3d51aca71",
   "metadata": {},
   "outputs": [],
   "source": []
  },
  {
   "cell_type": "markdown",
   "id": "003b4354-be86-4226-aa44-dc5d577f9166",
   "metadata": {},
   "source": [
    "## Exercise 4: Using `append()`, `extend()`, and `insert()`\n",
    "**Objective:** Practice different list methods for adding elements.  \n",
    "\n",
    "**Task:**  \n",
    "1. Create a list of noble gases:\n",
    "   ```python\n",
    "   noble_gases = [\"He\", \"Ne\", \"Ar\", \"Kr\"]\n",
    "   ```\n",
    "2. Use `.append()` to add `\"Xe\"`.  \n",
    "3. Use `.extend()` to add `\"Rn\"` and `\"Og\"`.  \n",
    "4. Use `.insert()` to insert `\"H\"` at the beginning (though not technically a noble gas, it's sometimes included).  \n",
    "5. Print the final list."
   ]
  },
  {
   "cell_type": "code",
   "execution_count": null,
   "id": "cecc33b3-4158-4741-806f-15e8a07aa420",
   "metadata": {},
   "outputs": [],
   "source": []
  },
  {
   "cell_type": "markdown",
   "id": "a554cf1d-097a-4784-ac19-7c6c8efdba71",
   "metadata": {},
   "source": [
    "## Exercise 5: Removing Elements from a List\n",
    "**Objective:** Use `.remove()`, `.pop()`, and `del` to modify lists.  \n",
    "\n",
    "**Task:**  \n",
    "1. Given the list of transition metals:\n",
    "   ```python\n",
    "   transition_metals = [\"Sc\", \"Ti\", \"V\", \"Cr\", \"Mn\", \"Fe\", \"Co\", \"Ni\", \"Cu\", \"Zn\"]\n",
    "   ```\n",
    "2. **Remove \"Mn\"** using `.remove()`.  \n",
    "3. **Remove the last element** using `.pop()`.  \n",
    "4. **Delete \"V\"** using `del`.  \n",
    "5. Print the modified list."
   ]
  },
  {
   "cell_type": "code",
   "execution_count": null,
   "id": "9d1bd2f2-962f-4b3b-893d-738ec1f76d3c",
   "metadata": {},
   "outputs": [],
   "source": []
  },
  {
   "cell_type": "markdown",
   "id": "52df023f-6ab6-44c3-8ec7-738c1fe1b2e5",
   "metadata": {},
   "source": [
    "## Exercise 6: Sorting and Counting Isotopic Data\n",
    "**Objective:** Practice sorting, reversing, and counting elements in lists.  \n",
    "\n",
    "**Task:**  \n",
    "1. Given the relative abundances of **oxygen isotopes**:\n",
    "   ```python\n",
    "   oxygen_isotope_abundances = [99.76, 0.04, 0.20]\n",
    "   ```\n",
    "2. **Sort** the list from least to greatest.  \n",
    "3. **Reverse** the list order.  \n",
    "4. **Find how many times `0.20` appears** in the list using `.count()`.  \n",
    "5. Print the results."
   ]
  },
  {
   "cell_type": "code",
   "execution_count": null,
   "id": "cf3816cb-fc49-4a78-94fe-2071a9f6ea09",
   "metadata": {},
   "outputs": [],
   "source": []
  },
  {
   "cell_type": "markdown",
   "id": "55a5a531-a9ab-42d0-87a8-d21fe5a1fd13",
   "metadata": {},
   "source": [
    "## Exercise 7: Finding the Most Abundant Isotope \n",
    "**Objective:** Use `max()` and list indexing to analyze isotopic distributions.  \n",
    "\n",
    "**Task:**  \n",
    "1. Given a list of **isotopes of chlorine**:\n",
    "   ```python\n",
    "   chlorine_isotopes = [\"Cl-35\", \"Cl-37\"]\n",
    "   chlorine_abundances = [75.77, 24.23]  # Percent abundances\n",
    "   ```\n",
    "2. Find the **most abundant isotope** by determining the **index of the maximum value** in `chlorine_abundances`.  \n",
    "3. Use that index to print the most abundant isotope from `chlorine_isotopes`.  \n",
    "\n",
    "(Hint: Use `chlorine_abundances.index(max(chlorine_abundances))` to get the index.)"
   ]
  },
  {
   "cell_type": "code",
   "execution_count": null,
   "id": "25a6e46e-a9b1-459a-80aa-f10dc1a7df8f",
   "metadata": {},
   "outputs": [],
   "source": []
  },
  {
   "cell_type": "markdown",
   "id": "6b3f2bef-c2ae-477a-aab5-e869422d8ad8",
   "metadata": {},
   "source": [
    "## Exercise 8: Averaging the Atomic Mass from Isotopic Abundance**  \n",
    "**Objective:** Use **list operations** to calculate a weighted average (atomic mass).  \n",
    "\n",
    "**Task:**  \n",
    "1. Given **isotopes and abundances** of **chlorine**:\n",
    "   ```python\n",
    "   isotopes = [\"Cl-35\", \"Cl-37\"]\n",
    "   masses = [34.969, 36.966]  # Atomic masses\n",
    "   abundances = [0.7577, 0.2423]  # Fractional abundances\n",
    "   ```\n",
    "2. Compute the **average atomic mass** using:\n",
    "   \n",
    "3. Print the result.  "
   ]
  },
  {
   "cell_type": "code",
   "execution_count": null,
   "id": "a536f197-330e-4c70-a33d-06517b1ec34c",
   "metadata": {},
   "outputs": [],
   "source": []
  },
  {
   "cell_type": "markdown",
   "id": "70e0cbf3-d642-4057-a6d7-0bd33c09bd82",
   "metadata": {},
   "source": [
    "# Part 2: Tuples\n",
    "\n",
    "## Exercise 9: Creating and Accessing Tuples\n",
    "**Objective:** Define a tuple and access specific elements using indexing.\n",
    "\n",
    "**Task:**\n",
    "1. Create a tuple named `alkali_metals` with the elements: **\"Li\", \"Na\", \"K\", \"Rb\", \"Cs\", \"Fr\"**.\n",
    "2. Print the first and last elements.\n",
    "3. Use **negative indexing** to print \"Rb\"."
   ]
  },
  {
   "cell_type": "code",
   "execution_count": null,
   "id": "274a4198-a251-44ab-b436-8ee45ff5ff5d",
   "metadata": {},
   "outputs": [],
   "source": []
  },
  {
   "cell_type": "markdown",
   "id": "3909ae11-4f9f-4de5-9c54-ad15eac9f1e2",
   "metadata": {},
   "source": [
    "## Exercise 10: Tuple Slicing\n",
    "**Objective:** Extract specific portions of a tuple.\n",
    "\n",
    "**Task:**\n",
    "1. Given the tuple `halogens = (\"F\", \"Cl\", \"Br\", \"I\", \"At\")`, extract:\n",
    "   - The first three elements.\n",
    "   - The last two elements.\n",
    "   - Elements from index **1 to 3**.\n",
    "   "
   ]
  },
  {
   "cell_type": "code",
   "execution_count": null,
   "id": "ad51a3e1-21f5-4d11-a8d4-995616a044c6",
   "metadata": {},
   "outputs": [],
   "source": []
  },
  {
   "cell_type": "markdown",
   "id": "5141082c-f272-4d27-8299-594b7beb3f8d",
   "metadata": {},
   "source": [
    "## Exercise 11: Tuple Unpacking\n",
    "**Objective:** Unpack tuple values into variables.\n",
    "\n",
    "**Task:**\n",
    "1. Unpack the tuple `(\"H\", \"He\", \"Li\")` into variables `a`, `b`, and `c`.\n",
    "2. Print the values of `a`, `b`, and `c`."
   ]
  },
  {
   "cell_type": "code",
   "execution_count": null,
   "id": "d462d6fe-0afb-4884-a3bf-64d131cea884",
   "metadata": {},
   "outputs": [],
   "source": []
  },
  {
   "cell_type": "markdown",
   "id": "e5ee8558-9e1a-43b4-93ab-05bb0813e5f1",
   "metadata": {},
   "source": [
    "## Exercise 12: Using `zip()` with Tuples\n",
    "**Objective:** Use `zip()` to pair elements into tuples.\n",
    "\n",
    "**Task:**\n",
    "1. Create two tuples:\n",
    "   - `metals = (\"Fe\", \"Cu\", \"Ag\", \"Au\")`\n",
    "   - `melting_points = (1538, 1084, 962, 1064)`\n",
    "2. Use `zip()` to create a list of tuples.\n",
    "3. Print the resulting list."
   ]
  },
  {
   "cell_type": "code",
   "execution_count": null,
   "id": "bbda07ed-27a4-48a1-ac96-da2a0f691b45",
   "metadata": {},
   "outputs": [],
   "source": []
  },
  {
   "cell_type": "markdown",
   "id": "e29be1c8-83dd-4d2c-a4ab-c00e4efd95be",
   "metadata": {},
   "source": [
    "## Exercise 13: Iterating Through a Tuple\n",
    "**Objective:** Iterate over a tuple using a loop.\n",
    "\n",
    "**Task:**\n",
    "1. Given `noble_gases = (\"He\", \"Ne\", \"Ar\", \"Kr\", \"Xe\", \"Rn\", \"Og\")`, write a **for loop** to print each element."
   ]
  },
  {
   "cell_type": "code",
   "execution_count": null,
   "id": "d1bc06e2-f7a6-4de6-8d38-a531a77d4180",
   "metadata": {},
   "outputs": [],
   "source": []
  },
  {
   "cell_type": "markdown",
   "id": "dffbe543-345e-48f0-ad50-4f6784c7d010",
   "metadata": {},
   "source": [
    "## Exercise 14: Tuple Immutability\n",
    "**Objective:** Understand that tuples **cannot be modified**.\n",
    "\n",
    "**Task:**\n",
    "1. Create a tuple: `immutable_example = (1, 2, 3, 4, 5)`.\n",
    "2. Try modifying `immutable_example[0] = 100`.  \n",
    "   - What happens? Why?"
   ]
  },
  {
   "cell_type": "code",
   "execution_count": null,
   "id": "bdf6179b-242c-4928-a518-dc021419eba7",
   "metadata": {},
   "outputs": [],
   "source": []
  },
  {
   "cell_type": "markdown",
   "id": "f3ca3450-aa51-41da-a038-011acadc3f9e",
   "metadata": {},
   "source": [
    "Explain answer here:"
   ]
  },
  {
   "cell_type": "markdown",
   "id": "58f8e29a-68eb-4699-a8c8-1c74ea582175",
   "metadata": {},
   "source": [
    "## Exercise 15: Finding the Length of a Tuple\n",
    "**Objective:** Use `len()` to determine the number of elements.\n",
    "\n",
    "**Task:**\n",
    "1. Given `transition_metals = (\"Sc\", \"Ti\", \"V\", \"Cr\", \"Mn\", \"Fe\", \"Co\", \"Ni\", \"Cu\", \"Zn\")`, print:The number of elements in the tuple.\n"
   ]
  },
  {
   "cell_type": "code",
   "execution_count": null,
   "id": "0d0f2c4d-4605-4652-8149-df5311ce221f",
   "metadata": {},
   "outputs": [],
   "source": []
  },
  {
   "cell_type": "markdown",
   "id": "3d9ea120-0934-4527-b0a3-0f4fa1ad9f6b",
   "metadata": {},
   "source": [
    "## Exercise 16: Finding Elements in a Tuple\n",
    "**Objective:** Check if an element exists in a tuple.\n",
    "\n",
    "**Task:**\n",
    "1. Given `lanthanides = (\"La\", \"Ce\", \"Pr\", \"Nd\", \"Pm\", \"Sm\", \"Eu\", \"Gd\", \"Tb\", \"Dy\", \"Ho\", \"Er\", \"Tm\", \"Yb\", \"Lu\")`, write a script that:\n",
    "   - Asks the user to input an element symbol.\n",
    "   - Checks if it exists in the tuple.\n",
    "   - Prints whether the element is a lanthanide or not."
   ]
  },
  {
   "cell_type": "code",
   "execution_count": null,
   "id": "9be540f6-8ef7-43c5-8cce-d1f8959c741a",
   "metadata": {},
   "outputs": [],
   "source": []
  }
 ],
 "metadata": {
  "kernelspec": {
   "display_name": "Python (sabbat)",
   "language": "python",
   "name": "sabbat"
  },
  "language_info": {
   "codemirror_mode": {
    "name": "ipython",
    "version": 3
   },
   "file_extension": ".py",
   "mimetype": "text/x-python",
   "name": "python",
   "nbconvert_exporter": "python",
   "pygments_lexer": "ipython3",
   "version": "3.12.8"
  }
 },
 "nbformat": 4,
 "nbformat_minor": 5
}
