{
 "cells": [
  {
   "cell_type": "markdown",
   "id": "5cdde7ef-346e-41e4-a7ee-a51207187a04",
   "metadata": {},
   "source": [
    "Py4Sci\n",
    "Assignment 1\n",
    "Due Midnight  February 2\n",
    "\n",
    "1.\tGenerate a Jupyter Notebook titled ASN1_YourName  (substitute your name for YourName, and have no  blank spaces in the title)\n",
    "2.\tUpload the notebook to your Google Drive folder by midnight Sunday, Feb 2\n",
    "3.\tYou are going to make a group of Markdown and code cells that form a tutorial on using python as a calculator\n",
    "4.\tFirst Markdown Cell is the title cell and give it the heading:  My Python Calculator for integers and Floats\n",
    "5.\tYou will work with integers and floats (not complex numbers of container data types)\n",
    "6.\tYour notebook should have markdown cells that you can copy from Ais.  You need to start each copied cell with \n",
    "a.\tQuestion (paste the question)\n",
    "b.\tAI Answer (paste the answer), where instead of writing AI, you name your AI.\n",
    "\n",
    "example:\n",
    "## Question\n",
    "Why does dividing to integers in python return a float?\n",
    "## ChatGPT Answer\n",
    "[paste the answer]\n",
    "\n",
    "\n",
    "\n",
    "\n",
    "PART 1: Basic math operations \n",
    "•\tbe sure to differentiate integer division from regular (float) division\n",
    "•\tdescribe the modulus and relate it to integer division\n",
    "•\texplain why dividing two integers (8/2) returns a float\n",
    "•\tshow how to make 8/2 return an integer\n",
    "\n",
    "\n",
    "Part 2: Math module (Built-In Module)\n",
    "In a markdown cell create a table for each of the following: attributes, methods and functions (you need to make three tables, and sometimes a module will not have some of these)\n",
    "\n",
    "Part 3: Go through the table and write code examples demonstrating what the methods and functions do, and how to use them. If there are more than 15 methods or functions you can limit the table to the 15 you feel are most useful, and then in a markdown cell explain that there are more, and briefly describe a few.\n",
    "\n"
   ]
  },
  {
   "cell_type": "code",
   "execution_count": null,
   "id": "890c83ea-99e2-45de-9807-ca34f6170261",
   "metadata": {},
   "outputs": [],
   "source": []
  }
 ],
 "metadata": {
  "kernelspec": {
   "display_name": "Python(py4sci)",
   "language": "python",
   "name": "py4sci"
  },
  "language_info": {
   "codemirror_mode": {
    "name": "ipython",
    "version": 3
   },
   "file_extension": ".py",
   "mimetype": "text/x-python",
   "name": "python",
   "nbconvert_exporter": "python",
   "pygments_lexer": "ipython3",
   "version": "3.12.8"
  }
 },
 "nbformat": 4,
 "nbformat_minor": 5
}
