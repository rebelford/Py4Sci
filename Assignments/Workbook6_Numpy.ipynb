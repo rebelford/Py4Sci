{
 "cells": [
  {
   "cell_type": "markdown",
   "id": "8b148404-4ab9-44d5-b73f-5f5be3fd63d2",
   "metadata": {},
   "source": [
    "## 1. Molecular Mass Calculation with NumPy Arrays\n",
    "**Objective:** Use vectorized operations in NumPy to compute the molecular mass of different chemical compounds.\n",
    "\n",
    "### Problem Statement\n",
    "Given the atomic masses of C (12.01 g/mol), H (1.008 g/mol), O (16.00 g/mol), calculate the molecular masses for the following compounds:\n",
    "\n",
    "| **Compound** | **Formula** |\n",
    "|-------------|-------------|\n",
    "| Methane | CH₄ |\n",
    "| Carbon Dioxide | CO₂ |\n",
    "| Ethanol | C₂H₆O |\n",
    "| Glucose | C₆H₁₂O₆ |\n",
    "\n",
    "1. Create a NumPy array for atomic masses `[12.01, 1.008, 16.00]` corresponding to `C, H, O`.\n",
    "2. Create a NumPy 2D array where each row contains the atomic count of `[C, H, O]` for each molecule.\n",
    "3. Use vectorized multiplication to compute the molecular masses of the compounds."
   ]
  },
  {
   "cell_type": "code",
   "execution_count": null,
   "id": "3402e9bd-c935-4588-9b1f-2a1626479ec8",
   "metadata": {},
   "outputs": [],
   "source": []
  },
  {
   "cell_type": "markdown",
   "id": "5ec7847d-f269-4416-ab06-6dbbc0dea7dc",
   "metadata": {},
   "source": [
    "## 2. Spectroscopy: Absorbance Data Analysis\n",
    "Objective: Use NumPy indexing, slicing, and array operations to analyze spectroscopy data.\n",
    "\n",
    "### Problem Statement\n",
    "You are given a NumPy 2D array representing the absorbance values of a sample at different wavelengths and time points:\n",
    "\n",
    "```python\n",
    "import numpy as np\n",
    "\n",
    "wavelengths = np.array([400, 450, 500, 550, 600, 650])  # nm\n",
    "time_points = np.array([0, 10, 20, 30, 40])  # seconds\n",
    "\n",
    "absorbance_data = np.array([\n",
    "    [0.1, 0.15, 0.2, 0.25, 0.3, 0.35],  # t = 0s\n",
    "    [0.08, 0.12, 0.18, 0.22, 0.28, 0.33],  # t = 10s\n",
    "    [0.05, 0.09, 0.16, 0.20, 0.25, 0.30],  # t = 20s|\n",
    "    [0.02, 0.07, 0.14, 0.18, 0.22, 0.27],  # t = 30s\n",
    "    [0.01, 0.05, 0.12, 0.15, 0.20, 0.24],  # t = 40s\n",
    "])\n",
    "```\n",
    "\n",
    "### Tasks\n",
    "1. Extract the absorbance values for 500 nm at all time points using slicing.\n",
    "2. Extract the absorbance values at time = 20s for all wavelengths.\n",
    "3. Determine at which wavelength the highest absorbance is observed at `t = 0s` using `np.argmax()`.\n",
    "4. Compute the average absorbance over time for each wavelength using `np.mean()`.\n"
   ]
  },
  {
   "cell_type": "code",
   "execution_count": null,
   "id": "2ab5c6cb-6a4b-4853-84ef-4d754fb17521",
   "metadata": {},
   "outputs": [],
   "source": []
  },
  {
   "cell_type": "markdown",
   "id": "e89219be-468a-4280-94fe-9daa4b009d96",
   "metadata": {},
   "source": [
    "## 3. Handling Missing Data in Experimental Results\n",
    "Objective: Use `np.nan` functions to clean experimental datasets.\n",
    "\n",
    "### Problem Statement\n",
    "A pH sensor recorded values over 10 experiments, but some readings failed. The data is stored as:\n",
    "\n",
    "```python\n",
    "import numpy as np\n",
    "\n",
    "pH_readings = np.array([7.2, np.nan, 6.8, 7.1, np.nan, 6.9, 7.3, np.nan, 7.0, 6.8])\n",
    "```\n",
    "\n",
    "### Tasks\n",
    "1. Identify which entries are missing using `np.isnan()`.\n",
    "2. Compute the mean pH, ignoring missing values, using `np.nanmean()`.\n",
    "3. Replace missing values with the mean pH using `np.nan_to_num()`."
   ]
  },
  {
   "cell_type": "code",
   "execution_count": null,
   "id": "5983d913-d7c0-44dd-aa4f-5dc406efa661",
   "metadata": {},
   "outputs": [],
   "source": []
  },
  {
   "cell_type": "markdown",
   "id": "b5fe6405-6ff9-4d10-87db-8aba45e3eb96",
   "metadata": {},
   "source": [
    "## 4. Temperature Conversion Using Vectorized Operations\n",
    "Objective: Use NumPy vectorization to efficiently convert temperature scales.\n",
    "\n",
    "### Problem Statement\n",
    "A researcher recorded temperatures in Fahrenheit and needs them in Celsius and Kelvin:\n",
    "\n",
    "```python\n",
    "temps_F = np.array([32, 100, 212, 451, -40])  # Fahrenheit\n",
    "```\n",
    "\n",
    "### Tasks\n",
    "1. Convert `temps_F` to Celsius using:\n",
    "   $\n",
    "   C = \\frac{5}{9} \\times (F - 32)\n",
    "   $\n",
    "2. Convert `temps_F` to Kelvin using:\n",
    "   $\n",
    "   K = C + 273.15\n",
    "   $\n",
    "3. Identify which temperatures are above the boiling point of water (100°C) using Boolean masking."
   ]
  },
  {
   "cell_type": "code",
   "execution_count": null,
   "id": "0963060f-c5c3-4d1c-b879-4161216b1b24",
   "metadata": {},
   "outputs": [],
   "source": []
  }
 ],
 "metadata": {
  "kernelspec": {
   "display_name": "Python(py4sci)",
   "language": "python",
   "name": "py4sci"
  },
  "language_info": {
   "codemirror_mode": {
    "name": "ipython",
    "version": 3
   },
   "file_extension": ".py",
   "mimetype": "text/x-python",
   "name": "python",
   "nbconvert_exporter": "python",
   "pygments_lexer": "ipython3",
   "version": "3.12.8"
  }
 },
 "nbformat": 4,
 "nbformat_minor": 5
}
