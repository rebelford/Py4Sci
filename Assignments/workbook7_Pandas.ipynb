{
 "cells": [
  {
   "cell_type": "markdown",
   "id": "806434a2-ae25-40e7-bec9-87f1857f9b52",
   "metadata": {},
   "source": [
    "# Workbook 7: Pandas\n",
    "\n",
    "\n",
    "## Question 1:\n",
    "In workbook 4 you downloaded the PubChem periodic table as a csv file. In the cell below you need to write the code that opens the csv file and print the head.  You need to use the filepath structure outlined in 03-2_pandas.ipynb section 5, and you need to print the head. You should have done this when you did module 03-2_panda. **Please paste the code in the box below.**"
   ]
  },
  {
   "cell_type": "code",
   "execution_count": null,
   "id": "5fe97c90-1630-4a30-ae4b-7e82a00466fc",
   "metadata": {},
   "outputs": [],
   "source": []
  },
  {
   "cell_type": "markdown",
   "id": "52071d0a-9a2a-486b-8667-b1fd52f85386",
   "metadata": {},
   "source": [
    "## Question 2\n",
    "When you look at the head of the dataframe you see that the index for the records (rows) are numbers, while those of the fields (columns) are labels. You need to change the record index from numbers to the symbols of the elements. That way you can find values by the symbol and value label you wish to obtain.  **Please paste the code in the box below.**"
   ]
  },
  {
   "cell_type": "code",
   "execution_count": null,
   "id": "28b68363-b8ae-419c-b0a3-c5d889af4a23",
   "metadata": {},
   "outputs": [],
   "source": []
  },
  {
   "cell_type": "markdown",
   "id": "d30669da-3daa-4fde-ba38-7cc7316cea54",
   "metadata": {},
   "source": [
    "## Question 3: \n",
    "When you look at the head of the file you see that the column labels do not have units.  You need to update the column header to include units for those fields that have units.  For example, if there was a field called \"mass\", you need to change it to \"mass (kg)\". To get the units you need to go to the [PubChemPeriodic Table](https://pubchem.ncbi.nlm.nih.gov/periodic-table/) and click on the DISPLAY PROPERTY/TREND dropdown box. Show the code for doing this in the cell below. **Please paste the code in the box below.**"
   ]
  },
  {
   "cell_type": "code",
   "execution_count": null,
   "id": "3c21ca3c-8b4e-4cb7-98cc-f6ad2e084062",
   "metadata": {},
   "outputs": [],
   "source": []
  },
  {
   "cell_type": "markdown",
   "id": "4eec0cdd-382a-4241-b0bb-c92985f65e49",
   "metadata": {},
   "source": [
    "## Question 4: \n",
    "Find the compound with the highest density and with the lowest density.  Place your code in the cell below. **Please paste the code in the box below.**"
   ]
  },
  {
   "cell_type": "code",
   "execution_count": null,
   "id": "d3364005-a6a4-4e08-9ff4-858c1ae58a2a",
   "metadata": {},
   "outputs": [],
   "source": []
  },
  {
   "cell_type": "markdown",
   "id": "72df08c4-535c-4c0c-8f16-c1fa71c5a539",
   "metadata": {},
   "source": [
    "## Question 5:\n",
    "(a) print out the number of NaNs for each field.\n",
    "(b) There are 19 elements that do not have an atomic radius, print out a list that tells us which ones do not have an atomic radius.\n",
    "(c) Calculate the average atomic radius for those elements that have an atomic radius.\n",
    "**Please paste the code in the box below.**\n"
   ]
  },
  {
   "cell_type": "code",
   "execution_count": null,
   "id": "7c9dec70-0b2d-4c2a-a862-e66f7069641d",
   "metadata": {},
   "outputs": [],
   "source": []
  },
  {
   "cell_type": "markdown",
   "id": "d1fb59d1-55be-4fb3-8e77-00ef46541b11",
   "metadata": {},
   "source": [
    "# Question 6: \n",
    "(a) Make a python list of the alkaline earth metals\n",
    "(b) Use this list to print out the AtomicRadius of the alkaline earth metals. Show if this is a series or a dataframe.\n",
    "(c) Use this list to print out the IonizationEnergy and ElectronAffinity of the alkaline earth metals together.  Show if this is a series or a dataframe.\n",
    "**Please paste the code in the box below.**"
   ]
  },
  {
   "cell_type": "code",
   "execution_count": null,
   "id": "898f0d4a-6560-49ae-89bd-d5b76fbbc935",
   "metadata": {},
   "outputs": [],
   "source": []
  },
  {
   "cell_type": "markdown",
   "id": "1746dd2d-7b18-4ede-ab0d-94e54b14ae9c",
   "metadata": {},
   "source": [
    "## Question 7: \n",
    "If you look at the boiling points you will see the units are in Kelvin.  Using .appl() you need to make a new column, that converts all the boiling points from kelvin to Fahrenheit. Do not change the current column to Fahrenheit, but make a new column, and print the header to show it. **Please paste the code in the box below.**"
   ]
  },
  {
   "cell_type": "code",
   "execution_count": null,
   "id": "367bffd6-0c91-423a-822d-e02f9e2b3440",
   "metadata": {},
   "outputs": [],
   "source": []
  },
  {
   "cell_type": "markdown",
   "id": "a09bc903-7c2f-4424-91ac-1b8924cc248b",
   "metadata": {},
   "source": [
    "## Question 8: \n",
    "You need to save the dataframe to a csv file called updated_pubchem_periodictable.csv in your data/pubchemn_data directory.  This needs to be done using the os module and a tilda for the home directory.  **Please paste the code in the box below.**"
   ]
  },
  {
   "cell_type": "code",
   "execution_count": null,
   "id": "35798fd3-a7a7-490d-b755-2edb25cee519",
   "metadata": {},
   "outputs": [],
   "source": []
  },
  {
   "cell_type": "markdown",
   "id": "eec366bd-64d1-4401-b9bd-49319467b866",
   "metadata": {},
   "source": [
    "Upload this notebook and the updated_pubchem_periodictable.csv file to your Google Drive folder"
   ]
  }
 ],
 "metadata": {
  "kernelspec": {
   "display_name": "Python (py4sci)",
   "language": "python",
   "name": "py4sci"
  },
  "language_info": {
   "codemirror_mode": {
    "name": "ipython",
    "version": 3
   },
   "file_extension": ".py",
   "mimetype": "text/x-python",
   "name": "python",
   "nbconvert_exporter": "python",
   "pygments_lexer": "ipython3",
   "version": "3.10.17"
  }
 },
 "nbformat": 4,
 "nbformat_minor": 5
}
