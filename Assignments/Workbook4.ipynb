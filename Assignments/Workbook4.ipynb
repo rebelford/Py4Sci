{
 "cells": [
  {
   "cell_type": "markdown",
   "id": "b3d7dbe4-9966-4552-a8e3-5a1b8c94dc1f",
   "metadata": {},
   "source": [
    "# Assignment 4: \n",
    "Due at midnight, 2/23/2025\n",
    "\n",
    "Your assignment is to download the PubChem periodic table and create a data dictionary of the entire periodic table that has all the properties in PubChem's periodic table. You are then to convert it to a json file and upload the json file and this notebook to your google drive folder.\n",
    "\n",
    "## Part 1: \n",
    "In the cell below place your code that converts the periodic table csv file to a python dictionary"
   ]
  },
  {
   "cell_type": "code",
   "execution_count": null,
   "id": "7b79d68e-6621-433c-9e6a-b6b6feba2fc7",
   "metadata": {},
   "outputs": [],
   "source": [
    "# Place Code Below\n"
   ]
  },
  {
   "cell_type": "markdown",
   "id": "097b39e4-73a9-4d15-80a3-e8f48f57a3ee",
   "metadata": {},
   "source": [
    "## Part 2:\n",
    "In the cell below place your code that converts the python dictionary to a json file"
   ]
  },
  {
   "cell_type": "code",
   "execution_count": null,
   "id": "667c45d1-b310-4c70-83e1-70ac67900e92",
   "metadata": {},
   "outputs": [],
   "source": [
    "# Place code below\n"
   ]
  },
  {
   "cell_type": "markdown",
   "id": "e511563b-d7d2-4192-87fd-6f75c98bce2e",
   "metadata": {},
   "source": [
    "### Part 3\n",
    "In the cell below, show the code that does the following\n",
    "\n",
    "1. Opens the json file with python\n",
    "2. Prints out all the elements in the file\n",
    "3. Prints out all the properties in the file\n",
    "4. Prints out a specific property of a specific element using an f-string that prints something like \"The atomic number of hydrogen is 1.\", where the 1 is pulled from your dictionary."
   ]
  },
  {
   "cell_type": "code",
   "execution_count": null,
   "id": "4c3f45bf-08b3-4713-a810-182f99464827",
   "metadata": {},
   "outputs": [],
   "source": [
    "# Place the code below"
   ]
  }
 ],
 "metadata": {
  "kernelspec": {
   "display_name": "Python(py4sci)",
   "language": "python",
   "name": "py4sci"
  },
  "language_info": {
   "codemirror_mode": {
    "name": "ipython",
    "version": 3
   },
   "file_extension": ".py",
   "mimetype": "text/x-python",
   "name": "python",
   "nbconvert_exporter": "python",
   "pygments_lexer": "ipython3",
   "version": "3.12.8"
  }
 },
 "nbformat": 4,
 "nbformat_minor": 5
}
