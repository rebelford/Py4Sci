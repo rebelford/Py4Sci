{
 "cells": [
  {
   "cell_type": "markdown",
   "id": "b940075e-4f6e-4836-9388-738e85bae6e6",
   "metadata": {},
   "source": []
  }
 ],
 "metadata": {
  "kernelspec": {
   "display_name": "Python (sabbat)",
   "language": "python",
   "name": "sabbat"
  },
  "language_info": {
   "codemirror_mode": {
    "name": "ipython",
    "version": 3
   },
   "file_extension": ".py",
   "mimetype": "text/x-python",
   "name": "python",
   "nbconvert_exporter": "python",
   "pygments_lexer": "ipython3",
   "version": "3.12.8"
  }
 },
 "nbformat": 4,
 "nbformat_minor": 5
}
