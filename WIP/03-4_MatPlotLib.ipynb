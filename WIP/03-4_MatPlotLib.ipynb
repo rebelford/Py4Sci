{
 "cells": [
  {
   "cell_type": "markdown",
   "id": "6a3615d2-0e76-4d6d-8f3d-9b062e89f7ce",
   "metadata": {},
   "source": [
    "# notes\n",
    "ppengOy - images"
   ]
  },
  {
   "cell_type": "markdown",
   "id": "b8d7a73d-3ad7-47a3-88f2-358e87231004",
   "metadata": {},
   "source": [
    "# Introduction\n",
    "Matplotlib is a comprehensive library for creating static, animated, and interactive visualizations in Python. It's one of the most popular plotting libraries in the Python ecosystem.\n",
    "\n",
    "Matplotlib is built on Numpy and so we often import them together\n",
    "\n",
    "To install matplotlib (**be sure to be in proper virtual environment\n",
    "```bash\n",
    "conda install -c conda-forge matplotlib\n",
    "```\n",
    "\n",
    "To import\n",
    "```python\n",
    "import matplotlib.pyplot as plt\n",
    "import numpy as np\n",
    "```\n"
   ]
  },
  {
   "cell_type": "markdown",
   "id": "290f980a-707c-4975-ac28-884be473d818",
   "metadata": {},
   "source": []
  },
  {
   "cell_type": "markdown",
   "id": "8bb99ad8-9bc9-40fd-932c-ce9f6fd86c4e",
   "metadata": {},
   "source": [
    "# PyPlot\n",
    "\n",
    "Pyplot (often imported as `plt`) is a module within Matplotlib that provides a simple, MATLAB-like interface for plotting. It's designed to make common plotting tasks easy and accessible, especially for users familiar with MATLAB's plotting commands.\n"
   ]
  },
  {
   "cell_type": "markdown",
   "id": "10619a6e-9f58-487c-8332-95f05fc1791f",
   "metadata": {},
   "source": [
    "## pylpot classes\n",
    "Pyplot itself is not a class, but rather a module that provides a MATLAB-like interface to Matplotlib. However, it interacts with and creates instances of several important classes within the Matplotlib ecosystem. Here are some key points:\n",
    "\n",
    "1. **Figure Class: Pyplot creates and manages instances of the `Figure` class. The `Figure` class is the top-level container for all plot elements[1].\n",
    "\n",
    "2. Axes Class: When you create plots using pyplot functions, you're often working with instances of the `Axes` class, which represent individual plotting areas within a figure.\n",
    "\n",
    "3. Canvas Class: The `FigureCanvas` is indeed a class, and it's crucial in Matplotlib's architecture. It's the object that actually does the drawing of the figure.\n",
    "\n",
    "4. FigureManager Class: This class is responsible for managing the interaction between the `Figure` and the backend."
   ]
  },
  {
   "cell_type": "markdown",
   "id": "65bcc09f-cc53-437a-87b5-c60b8ae47e81",
   "metadata": {},
   "source": [
    "## Pyplot Methods\n",
    "\n",
    "| Method | Description |\n",
    "|--------|-------------|\n",
    "| `plot()` | Creates a line or scatter plot |\n",
    "| `scatter()` | Creates a scatter plot |\n",
    "| `bar()` | Creates a bar plot |\n",
    "| `hist()` | Creates a histogram |\n",
    "| `boxplot()` | Creates a box and whisker plot |\n",
    "| `imshow()` | Displays an image on a 2D regular raster |\n",
    "| `contour()` | Draws contour lines |\n",
    "| `contourf()` | Draws filled contours |\n",
    "| `quiver()` | Plots a 2D field of arrows |\n",
    "| `pie()` | Creates a pie chart |\n",
    "| `errorbar()` | Plots y versus x as lines and/or markers with attached error bars |\n",
    "| `subplot()` | Adds a subplot to the current figure |\n",
    "| `figure()` | Creates a new figure or activates an existing figure |\n",
    "| `title()` | Sets a title for the current axes |\n",
    "| `xlabel()` | Sets a label for the x-axis |\n",
    "| `ylabel()` | Sets a label for the y-axis |\n",
    "| `legend()` | Places a legend on the axes |\n",
    "| `grid()` | Configures the grid lines |\n",
    "| `xlim()` | Gets or sets the x limits of the current axes |\n",
    "| `ylim()` | Gets or sets the y limits of the current axes |\n",
    "| `savefig()` | Saves the current figure |\n",
    "| `show()` | Displays all open figures |\n",
    "| `close()` | Closes a figure window |\n",
    "| `colorbar()` | Adds a colorbar to a plot |\n",
    "| `clim()` | Sets the color limits of the current image |\n",
    "| `text()` | Adds text to the axes |\n",
    "| `annotate()` | Annotates a point with text |"
   ]
  },
  {
   "cell_type": "markdown",
   "id": "586e180f-5310-40b9-bdce-ef9d0ad5811a",
   "metadata": {},
   "source": [
    "## pyplot.plot()\n",
    "\n",
    "### plplot.plot arguments\n",
    "| Argument | Description |\n",
    "|----------|-------------|\n",
    "| x | The horizontal coordinates of the data points. Optional if y is given as a 2D array. |\n",
    "| y | The vertical coordinates of the data points. |\n",
    "| fmt | A format string that specifies the color, marker, and line style. Optional. |\n",
    "| color | The color of the line or markers. Can be a string or RGB tuple. |\n",
    "| linestyle | The style of the line. Examples: '-', '--', ':', '-.' |\n",
    "| linewidth | The width of the line in points. |\n",
    "| marker | The style of markers to use. Examples: 'o', 's', '^', 'D' |\n",
    "| markersize | The size of markers in points. |\n",
    "| label | A string that will be used in the legend for this line. |\n",
    "| alpha | The transparency of the line/markers (0.0 to 1.0). |\n",
    "| data | An object with labelled data, allowing use of string identifiers for x and y. |\n",
    "| scalex, scaley | Booleans indicating whether to autoscale x and y axes. Default is True. |"
   ]
  },
  {
   "cell_type": "markdown",
   "id": "114e1428-9a5c-40db-8650-0b7d466332ed",
   "metadata": {},
   "source": []
  },
  {
   "cell_type": "markdown",
   "id": "9b779539-c024-4dfd-be03-d324df235cbe",
   "metadata": {},
   "source": []
  },
  {
   "cell_type": "markdown",
   "id": "ef01fa05-b856-461a-b6bf-50d84814a152",
   "metadata": {},
   "source": []
  },
  {
   "cell_type": "markdown",
   "id": "8c323590-cb05-4287-a38e-640b5d992017",
   "metadata": {},
   "source": []
  },
  {
   "cell_type": "code",
   "execution_count": null,
   "id": "b41257a9-ef00-4781-981e-7c9fd99e33f7",
   "metadata": {},
   "outputs": [],
   "source": []
  },
  {
   "cell_type": "markdown",
   "id": "2513684d-215c-4094-9cdb-cc01c9f0ccd5",
   "metadata": {},
   "source": [
    "# Acknowldegments\n",
    "\n",
    "material in this activty has been adapted from chapter 3 of Charles Weiss's book \"Scientific Computing for Chemists with Python\",  [CC BY-NC-SA 4.0](https://creativecommons.org/licenses/by-nc-sa/4.0/)."
   ]
  },
  {
   "cell_type": "code",
   "execution_count": null,
   "id": "481cf451-e739-4d6d-bf1d-071623c18557",
   "metadata": {},
   "outputs": [],
   "source": []
  }
 ],
 "metadata": {
  "kernelspec": {
   "display_name": "Python (py4sci)",
   "language": "python",
   "name": "py4sci"
  },
  "language_info": {
   "codemirror_mode": {
    "name": "ipython",
    "version": 3
   },
   "file_extension": ".py",
   "mimetype": "text/x-python",
   "name": "python",
   "nbconvert_exporter": "python",
   "pygments_lexer": "ipython3",
   "version": "3.12.8"
  }
 },
 "nbformat": 4,
 "nbformat_minor": 5
}
