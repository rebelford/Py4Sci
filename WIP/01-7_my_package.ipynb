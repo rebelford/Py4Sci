{
 "cells": [
  {
   "cell_type": "markdown",
   "id": "af99a6ed-bd46-4d9d-b887-85b7cc9555c9",
   "metadata": {},
   "source": [
    "In this module we will create our own primitive python package where we can create custom functions that can be imported into any Jupyter Notebook. The only restriction is the notebook must be run in an environment that has all the dependent packages that any of our functions use. \n",
    "\n",
    "Directory Structure\n",
    "```\n",
    "~/my_packages/\n",
    "│── pack1/\n",
    "│   ├── setup.py       # Pack1 setup file\n",
    "│   ├── pyproject.toml # Pack1 build config\n",
    "│   ├── __init__.py\n",
    "│   ├── my_fun1.py\n",
    "│\n",
    "│── pack2/\n",
    "│   ├── setup.py       # Pack2 setup file\n",
    "│   ├── pyproject.toml # Pack2 build config\n",
    "│   ├── __init__.py\n",
    "│   ├── my_fun2.py\n",
    "```\n"
   ]
  },
  {
   "cell_type": "markdown",
   "id": "1e0c0882-5bb5-4c72-9e6c-b68e6ba1a954",
   "metadata": {},
   "source": [
    "## 1. Create Package Directory\n",
    "Navigate to your home directory in the terminal:\n",
    "```bash\n",
    "cd ~\n",
    "```\n",
    "Create a folder called `my_packages/` to store your custom packages in, and then a subdirectory `pack1/` for your first package:\n",
    "```bash\n",
    "mkdir -p my_packages/pack1\n",
    "```\n",
    "- -p stands for parent directory\n",
    "- First, it checks if `my_packages` exists. If not, it creates it.\n",
    "- Then, it creates `pack1` inside `my_packages`.\n"
   ]
  },
  {
   "cell_type": "markdown",
   "id": "f841c56d-710a-4981-ae3b-29be04079537",
   "metadata": {},
   "source": [
    "## 2. Create required files\n",
    "\n",
    "### create `__init__.py` file\n",
    "This marks `pack1/` as a package and not a normal directory\n",
    "```bash\n",
    "touch my_packages/pack1/__init__.py\n",
    "```\n",
    "Inside of this file you can include import statements.  Then if you run a function in another notebook it will work if that notebook does not have it imported.  Two of our funcitons use numpy so add the following to the __init__.py file:\n",
    "```python\n",
    "import numpy as np\n",
    "```\n",
    "\n",
    "\n",
    "### create my_fun1.py \n",
    "Inside pack1 place the python file that has the functions you want to be able to import.  We will call this my_fun.py for my functions. This should not be a jupyter notebook but a **\\*.py** file, and I have provided one that contains the following functions\n",
    "- `head1D(arr, n=5)` - returns head of 1D numpy array\n",
    "- `head(arr, n=5, axis=0)` - returns head of specified axis of nD numpy array\n",
    "- `rgb2name(r, g, b)` - returns closest color based on rgb codes from 0 to 1.\n",
    "\n"
   ]
  },
  {
   "cell_type": "markdown",
   "id": "a4de5689-0f36-4a00-91d3-b4d3285cb6b8",
   "metadata": {},
   "source": [
    "## 3. Create setup.py\n",
    "A `setup.py` file is the standard way to define a Python package so it can be installed with `pip`.\n",
    "\n",
    "\n",
    "cd ~/my_packages/pack1\n",
    "\n",
    "Create a setup.py file in this location\n",
    "```python\n",
    "from setuptools import setup\n",
    "\n",
    "setup(\n",
    "    name=\"pack1\",\n",
    "    version=\"0.1\",\n",
    "    py_modules=[\"my_fun1\"],  # Register individual Python files\n",
    "    package_dir={\"\": \".\"},  # Look in the current directory\n",
    "    author=\"Your Name\",\n",
    "    description=\"Custom functions for our Python class\",\n",
    ")\n",
    "\n",
    "```\n",
    "What Each Line Does\n",
    "\n",
    "```python\n",
    "from setuptools import setup \n",
    "```\n",
    "- setuptools is a standard python package management library\n",
    "- provides tools for installing, managing and distributing python packages\n",
    "- setup() defines the package details\n",
    "- allows us to install the package with `pip`\n",
    "\n",
    "```python\n",
    "setup(\n",
    "    name='pack1' # specifies name of package, you would use \"pip install pack1\" to install it\n",
    "    version='0.1' # follow \"Semantic Versioning\" (major.minor.patch)\n",
    "    py_modules=[\"my_fun1\"] # registers module so it can be imported (import my_fun1)\n",
    "    #py_modules=[\"my_fun1\",\"my_fun2\"] - allows you to register multiple modules in a package\n",
    "    package_dir={\"\":\".\"}, # tells setuptools that the modules are in the current \".\" directory\n",
    "    author=\"Your Name\" # Will appear on PyPi package page and in metadata\n",
    "    description=\"Custom functions for our Python class\",# pip show pack1 will display this message\n",
    ")\n"
   ]
  },
  {
   "cell_type": "markdown",
   "id": "496dbb8f-bd5f-49ab-9c2d-5d07e51ab074",
   "metadata": {},
   "source": [
    "## 4. create pyproject.toml file\n",
    "Insider `~\\my_packages\\pack1` create a file called pyproject.toml with the following code.\n",
    "```toml\n",
    "[build-system]\n",
    "requires = [\"setuptools>=64\", \"wheel\"]\n",
    "build-backend = \"setuptools.build_meta\"\n",
    "```\n",
    "\n",
    "TOML stans for \"Tom’s Obvious, Minimal Language\", and a `pyproject.toml` file is a modern configuration file that tells pip how to build a python package. When you run `pip install -e .`, it reads the [build-system] to determine which tools are needed to install the package, and how to build it."
   ]
  },
  {
   "cell_type": "markdown",
   "id": "40038c7c-4b6f-4667-aa4e-835e1ffcf76b",
   "metadata": {},
   "source": [
    "## 5. Install the package\n",
    "**Activate the Conda Environment you want to install the package in\n",
    "```bash\n",
    "conda activate environment_you_want_to_use\n",
    "```\n",
    "\n",
    "First you need to install the dependencies for the .toml file\n",
    "```bash\n",
    "conda install -c conda-forge setuptools wheel\n",
    "```\n",
    "Navigate to the directory you are making your package with, so you are in the same directory as the pyroject.toml, setup.py and __init__py files are, and run:\n",
    "\n",
    "```bash\n",
    " pip install -e . --config-settings editable_mode=compat\n",
    "```\n",
    "\n",
    "Note there is a dot after -e to indicate current directory\n",
    "\n",
    "Pip reads `setup.py`, installs dependencies, and registers the package. This registers pack1 as an importable package, with my_fun1 being an importable module that can be used in any notebook\n",
    "\n",
    "Note, you need to do this in every environment you wish to use your package in.\n"
   ]
  },
  {
   "cell_type": "markdown",
   "id": "de30fefa-4c56-491d-9bd9-babed5dd6942",
   "metadata": {},
   "source": [
    "## 5. Test the installation\n",
    "Open up a Jupyter notebook code cell and be sure you are in the environment you installed your package in and run the next line of code."
   ]
  },
  {
   "cell_type": "code",
   "execution_count": 3,
   "id": "ace061b5-4f0c-4fe0-b07e-4d6e845f1dc3",
   "metadata": {},
   "outputs": [
    {
     "name": "stdout",
     "output_type": "stream",
     "text": [
      "Red\n"
     ]
    }
   ],
   "source": [
    "from my_fun1 import rgb2name\n",
    "print(rgb2name(.8,.2,0))\n",
    "print(help(rgb2name))\n"
   ]
  },
  {
   "cell_type": "code",
   "execution_count": 5,
   "id": "8d980b51-23af-4b38-a64a-0e90e7d080be",
   "metadata": {},
   "outputs": [
    {
     "name": "stdout",
     "output_type": "stream",
     "text": [
      "Help on function rgb2name in module my_fun1:\n",
      "\n",
      "rgb2name(r, g, b)\n",
      "    reb2name will take r(red), g(green) and B(blue) values as positional arguments on a scale of 0 to 1.0\n",
      "    and return the color they form when mixed\n",
      "\n"
     ]
    }
   ],
   "source": [
    "from my_fun1 import rgb2name\n",
    "\n",
    "help(rgb2name)"
   ]
  },
  {
   "cell_type": "markdown",
   "id": "d58f97d9-de7f-4046-a091-c168de313185",
   "metadata": {},
   "source": [
    "## to Uninstall the package\n",
    "\n",
    "```bash\n",
    "pip uninstall pack1\n",
    "```"
   ]
  }
 ],
 "metadata": {
  "kernelspec": {
   "display_name": "Python (py4sci)",
   "language": "python",
   "name": "py4sci"
  },
  "language_info": {
   "codemirror_mode": {
    "name": "ipython",
    "version": 3
   },
   "file_extension": ".py",
   "mimetype": "text/x-python",
   "name": "python",
   "nbconvert_exporter": "python",
   "pygments_lexer": "ipython3",
   "version": "3.12.8"
  }
 },
 "nbformat": 4,
 "nbformat_minor": 5
}
