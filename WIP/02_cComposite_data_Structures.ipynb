{
 "cells": [
  {
   "cell_type": "markdown",
   "id": "4ce18406-694d-4de0-9131-b52686b675ef",
   "metadata": {},
   "source": [
    "# Composite Data Structures\n",
    "| Data Structure | Description                                                                                 |\n",
    "|----------------|---------------------------------------------------------------------------------------------|\n",
    "| `list`         | A collection of ordered, mutable items that can hold elements of different types.           |\n",
    "| `tuple`        | An ordered, immutable sequence of items, which can also hold elements of different types.   |\n",
    "| `set`          | An unordered collection of unique, immutable items.                                         |\n",
    "| `dict`         | A collection of key-value pairs, where keys are unique and immutable, and values are mutable.|"
   ]
  },
  {
   "cell_type": "markdown",
   "id": "751a02e0-3444-4b76-9b96-59312b3ebf98",
   "metadata": {},
   "source": [
    "# Lists\n",
    "\n"
   ]
  }
 ],
 "metadata": {
  "kernelspec": {
   "display_name": "Python(py4sci)",
   "language": "python",
   "name": "py4sci"
  },
  "language_info": {
   "codemirror_mode": {
    "name": "ipython",
    "version": 3
   },
   "file_extension": ".py",
   "mimetype": "text/x-python",
   "name": "python",
   "nbconvert_exporter": "python",
   "pygments_lexer": "ipython3",
   "version": "3.12.8"
  }
 },
 "nbformat": 4,
 "nbformat_minor": 5
}
