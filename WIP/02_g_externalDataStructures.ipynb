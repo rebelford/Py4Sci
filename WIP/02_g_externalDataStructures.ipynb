{
 "cells": [
  {
   "cell_type": "markdown",
   "id": "484280f0-ae91-4719-9f50-3779d6ff0368",
   "metadata": {},
   "source": [
    "\n",
    "\n",
    "\n",
    "## How Databases and Web Services Fit Into the Picture\n",
    "They are an interesting hybrid, they store non-volatile data from the perspective of the python program, but access to them introduces elements of volatility:\n",
    "1. **Non-Volatile:** Data persists when the Python kernel/interpreter is shut down.\n",
    "2. **Volatile:** Unlike files, a database can be unavailable (e.g., server downtime), and data integrity can be affected by concurrent access.\n",
    "\n",
    "In a structured **progression from volatile to non-volatile** data, databases fit in as **external but queryable structures**:\n",
    "- Unlike files, they support **efficient querying** (e.g., SQL queries).\n",
    "- Unlike in-memory Python data structures, they **persist beyond execution**.\n",
    "- Unlike JSON or CSV files, they allow **dynamic updates and complex relationships**.\n",
    "\n"
   ]
  },
  {
   "cell_type": "markdown",
   "id": "5d891575-e572-46ff-9aaa-6957e632421d",
   "metadata": {},
   "source": [
    "# 1. How a Computer Stores Data: Directory vs. Database\n",
    "So far we have looked at directories (file systems) and we need to understand the difference between a file system and a database.\n",
    "## 1.1 Directory (File Storage)\n",
    "- A **directory** is a hierarchical **tree structure** where files and folders are organized.\n",
    "- Files are stored as **binary data** on disk, and each file has **metadata** (name, size, type, last modified date).\n",
    "- You can perform **basic searches** (filename, date modified).\n",
    "- **No structured relations** between files, beyond directory hierarchies.\n",
    "\n",
    "### **Example: How a Directory Stores Chemistry Data**\n",
    "```\n",
    "/research_data/\n",
    "│── periodic_table.csv\n",
    "│── elements.json\n",
    "│── hydrogen.png\n",
    "│── lab_notes.txt\n",
    "```\n",
    "- You can find \"hydrogen.png\" by looking in `/research_data/` and searching filenames.\n",
    "- But if you want to ask, **“What are all the elements with atomic number < 10?”**, the directory itself does not support such structured queries.\n",
    "\n",
    "## 1.2 Database Storage\n",
    "A **database** is an organized system for storing and retrieving data with **structured querying**.\n",
    "- **Data is stored in a structured format** (tables, documents, graphs).\n",
    "- **Indexing enables fast queries** (retrieving data without scanning everything).\n",
    "- **Relationships exist between data**.\n",
    "\n",
    "\n",
    "## 1. Database Models: SQL, NoSQL, and Beyond\n",
    "\n",
    "There are multiple ways to structure and organize data in a database. The most common types include:\n",
    "\n",
    "### **1.1 Relational Databases (SQL)**\n",
    "- Data is stored in **tables** with predefined columns (fields).\n",
    "- Tables are related to each other through **keys**.\n",
    "- Uses **Structured Query Language (SQL)** to manage and query data.\n",
    "- Example: SQLite, PostgreSQL, MySQL.\n",
    "- Example Schema:\n",
    "  ```\n",
    "  Element Table:\n",
    "  | AtomicNumber | Symbol | Name  | AtomicWeight |\n",
    "  |-------------|--------|-------|--------------|\n",
    "  | 1           | H      | Hydrogen | 1.008      |\n",
    "  | 2           | He     | Helium   | 4.0026     |\n",
    "  ```\n",
    "- Relationships allow for structured queries like:\n",
    "  ```sql\n",
    "  SELECT * FROM Element WHERE AtomicNumber = 1;\n",
    "  ```\n",
    "### **1.2 NoSQL Databases**\n",
    "- Designed for flexibility and scale, handling **semi-structured or unstructured data**.\n",
    "- No fixed table structure; data is stored as **documents, key-value pairs, graphs, or columns**.\n",
    "\n",
    "Example **JSON document in MongoDB**:\n",
    "```json\n",
    "{\n",
    "  \"AtomicNumber\": 1,\n",
    "  \"Symbol\": \"H\",\n",
    "  \"Name\": \"Hydrogen\",\n",
    "  \"AtomicWeight\": 1.008\n",
    "}\n",
    "```\n",
    "Queries use **JSON-based query languages**, e.g.:\n",
    "```python\n",
    "db.elements.find({\"Symbol\": \"H\"})\n",
    "```\n",
    "### **1.3 Graph Databases (RDF and Triple Stores)**\n",
    "- Used to model complex relationships, often found in semantic web and linked data applications.\n",
    "- Data is stored as **triples**: (subject, predicate, object).\n",
    "- Example:\n",
    "  ```\n",
    "  (\"Hydrogen\", \"isElement\", \"True\")\n",
    "  (\"Hydrogen\", \"atomicNumber\", \"1\")\n",
    "  (\"Hydrogen\", \"bondsWith\", \"Oxygen\")\n",
    "  ```\n",
    "- Queries use **SPARQL** instead of SQL."
   ]
  },
  {
   "cell_type": "markdown",
   "id": "7fcf459b-4b6b-4549-9727-b6748928aa6d",
   "metadata": {},
   "source": [
    "## Understanding Databases\n",
    "The core role of a database is to efficiently and persistently **store data** and in a structured and useful manner **allow access to the data.** These goals can be achieved through 5 key database activities.\n",
    "\n",
    "| **Key Database Activity** | **Purpose** |\n",
    "|---------------------------|-------------|\n",
    "| **1. Transactions (Data Modification & Integrity)** | Manage data changes (`INSERT`, `UPDATE`, `DELETE`) as atomic units, ensuring consistency with commit & rollback mechanisms. |\n",
    "| **2. Schema Management** | Define tables, columns, relationships, and constraints to **structure the data**. |\n",
    "| **3. Data Querying & Retrieval** | Access stored data without modifying it (`SELECT` queries), allowing filtering, aggregation, and reporting. |\n",
    "| **4. Indexing & Optimization** | Speed up data access and searches by using indexes and optimizing queries for performance. |\n",
    "| **5. Concurrency & Multi-User Access** | Manage simultaneous access to prevent conflicts and ensure data consistency across multiple users. |\n"
   ]
  },
  {
   "cell_type": "markdown",
   "id": "5e37a172-7b1d-4b0d-88ee-6f1b6b424808",
   "metadata": {},
   "source": [
    "\n",
    "# SQLite\n",
    "SQLite is a single file SQL database that can be generated and manipulated with the built-in Python sqlite3 module. Unlike larger SQL databases it does not require running a database server, and so it is an excellent tool to introduce basic database functions with. \n",
    "\n",
    "## The Role of SQLite in the SQL Ecosystem\n",
    "| Feature | SQLite | Server-Based SQL (MySQL, PostgreSQL) |\n",
    "|---------|--------|--------------------------------------|\n",
    "| Setup | No setup needed (file-based) | Requires installation & server |\n",
    "| Best For | Local storage, embedded apps, small projects | Large-scale web applications, enterprise systems |\n",
    "| Performance | Fast for small datasets | Scales well with huge data |\n",
    "| Concurrency | Limited multi-user access | Handles multiple users simultaneously |\n",
    "| Portability | Just a single `.db` file | Requires database servers & configurations |\n",
    "\n",
    "## SQLite Objects (Classes)\n",
    "Databases involve several key operations and there are several SQLite python objects (classes) that we need to understand in order to communicate with and manipulate data within a SQLite database.  These are\n",
    "   1. **Connection:** Handles database access of a session (open, close, commit, rollback).\n",
    "   2. **Cursor:** Handles query execution and navigation, you can have multiple cursor objects in a connection.\n",
    "   3. **Row** Allows you to access values by column name instead of index.\n",
    "\n",
    "Since SQLite is, making it a great tool for small to medium datasets, research projects, and prototyping.\n",
    "\n",
    "\n",
    "#### **🔹 Connection Methods (`sqlite3.Connection`)**\n",
    "| Method | Description |\n",
    "|--------|-------------|\n",
    "| `connect(database)` | Opens a connection to the SQLite database file. |\n",
    "| `close()` | Closes the connection to free up resources. |\n",
    "| `commit()` | Saves (commits) changes to the database. |\n",
    "| `rollback()` | Rolls back uncommitted changes. |\n",
    "| `cursor()` | Creates a cursor object to execute SQL commands. |\n",
    "| `execute(sql, params)` | Executes a single SQL command. |\n",
    "| `executemany(sql, seq_of_params)` | Executes a SQL command multiple times with different values. |\n",
    "\n",
    "---\n",
    "\n",
    "#### **🔹 Cursor Methods (`sqlite3.Cursor`)**\n",
    "| Method | Description |\n",
    "|--------|-------------|\n",
    "| `execute(sql, params)` | Executes a SQL query. |\n",
    "| `executemany(sql, seq_of_params)` | Executes a batch of SQL queries. |\n",
    "| `fetchone()` | Fetches the next row of the result set. |\n",
    "| `fetchall()` | Fetches all remaining rows of the result set. |\n",
    "| `fetchmany(size)` | Fetches `size` number of rows. |\n",
    "| `description` | A tuple containing metadata about the columns. |\n",
    "\n",
    "---\n",
    "\n",
    "\n",
    "#### **📜 Common Database Tasks in SQLite**\n",
    "| Task | SQL Query | SQLite (`sqlite3`) Example |\n",
    "|------|----------|--------------------------|\n",
    "| **Show all tables** | `SELECT name FROM sqlite_master WHERE type='table';` | `cursor.execute(\"SELECT name FROM sqlite_master WHERE type='table';\")` |\n",
    "| **Show table structure** | `PRAGMA table_info(elements);` | `cursor.execute(\"PRAGMA table_info(elements);\")` |\n",
    "| **Get all records** | `SELECT * FROM elements;` | `cursor.execute(\"SELECT * FROM elements;\")` |\n",
    "| **Get first 5 records** | `SELECT * FROM elements LIMIT 5;` | `cursor.execute(\"SELECT * FROM elements LIMIT 5;\")` |\n",
    "| **Find specific element** | `SELECT * FROM elements WHERE symbol='H';` | `cursor.execute(\"SELECT * FROM elements WHERE symbol='H';\")` |\n",
    "| **Filter by condition** | `SELECT name, symbol FROM elements WHERE boiling_point < 25;` | `cursor.execute(\"SELECT name, symbol FROM elements WHERE boiling_point < 25;\")` |\n",
    "| **Sort results** | `SELECT * FROM elements ORDER BY atomic_mass DESC;` | `cursor.execute(\"SELECT * FROM elements ORDER BY atomic_mass DESC;\")` |\n",
    "| **Insert new record** | `INSERT INTO elements (symbol, name, atomic_mass) VALUES ('Xx', 'XenonX', 200);` | `cursor.execute(\"INSERT INTO elements (symbol, name, atomic_mass) VALUES (?, ?, ?)\", ('Xx', 'XenonX', 200))` |\n",
    "| **Update a record** | `UPDATE elements SET atomic_mass=18.02 WHERE symbol='H2O';` | `cursor.execute(\"UPDATE elements SET atomic_mass=? WHERE symbol=?\", (18.02, 'H2O'))` |\n",
    "| **Delete a record** | `DELETE FROM elements WHERE symbol='Xx';` | `cursor.execute(\"DELETE FROM elements WHERE symbol=?\", ('Xx',))` |\n"
   ]
  },
  {
   "cell_type": "markdown",
   "id": "4d32dc24-7f6d-4b6c-b137-bd6ef3dcc743",
   "metadata": {},
   "source": [
    "# SQLite Activity\n",
    "## Create a Database from halogens.csv"
   ]
  },
  {
   "cell_type": "code",
   "execution_count": 1,
   "id": "9e22d900-e89b-400f-b594-7e7e21055452",
   "metadata": {},
   "outputs": [],
   "source": [
    "import sqlite3\n",
    "import pandas as pd\n",
    "import os\n",
    "\n",
    "# Define the directory structure\n",
    "halogens_sb_dir = os.path.expanduser(\"~/sandbox\")  # Parent directory\n",
    "os.makedirs(halogens_sb_dir, exist_ok=True)  # Ensure directories exist\n",
    "\n",
    "# Define file paths\n",
    "halogens_csv_file_path = os.path.join(halogens_sb_dir, \"halogens.csv\")\n",
    "halogens_db_file_path = os.path.join(halogens_sb_dir, \"halogens.db\")  # SQLite database file\n",
    "\n",
    "# Load CSV file into Pandas DataFrame\n",
    "df = pd.read_csv(halogens_csv_file_path)\n",
    "\n",
    "# Connect to SQLite database (creates the file if it doesn’t exist)\n",
    "conn = sqlite3.connect(halogens_db_file_path)\n",
    "cursor = conn.cursor()\n",
    "\n",
    "# Create table (adjust column names to match CSV headers)\n",
    "cursor.execute(\"\"\"\n",
    "CREATE TABLE IF NOT EXISTS elements (\n",
    "    atomic_number INTEGER PRIMARY KEY,\n",
    "    symbol TEXT NOT NULL,\n",
    "    name TEXT NOT NULL,\n",
    "    atomic_mass REAL,\n",
    "    density REAL,\n",
    "    melting_point REAL,\n",
    "    boiling_point REAL\n",
    ")\n",
    "\"\"\")\n",
    "\n",
    "# Insert data from DataFrame into SQLite table\n",
    "df.to_sql(\"elements\", conn, if_exists=\"replace\", index=False)\n",
    "\n",
    "# Commit changes and close connection\n",
    "conn.commit()\n",
    "conn.close()"
   ]
  },
  {
   "cell_type": "markdown",
   "id": "4f374037-4dcd-4d7d-afc0-31879fef7ba3",
   "metadata": {},
   "source": [
    "## Print Tables in Database"
   ]
  },
  {
   "cell_type": "code",
   "execution_count": 2,
   "id": "8da2b8ff-749d-4822-a22c-d9c678b499b4",
   "metadata": {},
   "outputs": [
    {
     "name": "stdout",
     "output_type": "stream",
     "text": [
      "Tables in the database: [('elements',)]\n"
     ]
    }
   ],
   "source": [
    "import sqlite3\n",
    "\n",
    "#conn = sqlite3.connect(\"/home/rebelford/data/pubchem_data/periodic_table.db\")\n",
    "conn = sqlite3.connect(halogens_db_file_path)\n",
    "cursor = conn.cursor()\n",
    "\n",
    "cursor.execute(\"SELECT name FROM sqlite_master WHERE type='table';\")\n",
    "tables = cursor.fetchall()\n",
    "\n",
    "print(\"Tables in the database:\", tables)\n",
    "conn.close()"
   ]
  },
  {
   "cell_type": "markdown",
   "id": "5aa862c8-1e90-4c22-ad18-2be7b153851b",
   "metadata": {},
   "source": [
    "## Print Fields (Columns) in Database"
   ]
  },
  {
   "cell_type": "code",
   "execution_count": 3,
   "id": "0da11d33-59f5-41b2-9397-ebdd2a83d619",
   "metadata": {},
   "outputs": [
    {
     "name": "stdout",
     "output_type": "stream",
     "text": [
      "Fields in the 'elements' table: ['Element', 'Atomic Number', 'Atomic Mass', 'Electronegativity']\n"
     ]
    }
   ],
   "source": [
    "conn = sqlite3.connect(halogens_db_file_path)\n",
    "cursor = conn.cursor()\n",
    "\n",
    "cursor.execute(\"PRAGMA table_info(elements);\")\n",
    "fields = [row[1] for row in cursor.fetchall()]\n",
    "\n",
    "print(\"Fields in the 'elements' table:\", fields)\n",
    "conn.close()"
   ]
  },
  {
   "cell_type": "markdown",
   "id": "a910e2bd-d1a2-45cf-ab09-b56f2dfc2671",
   "metadata": {},
   "source": [
    "**Warning** the column names 'Atomic Number' and \"Atomic Mass' have two words and we need to make them one word or SQLite will give a name error if we seek to use them."
   ]
  },
  {
   "cell_type": "code",
   "execution_count": 4,
   "id": "34cb6df7-8a9d-42e4-b6c8-c8471d8cc283",
   "metadata": {},
   "outputs": [
    {
     "name": "stdout",
     "output_type": "stream",
     "text": [
      "Fields in the 'elements' table: ['Element', 'AtomicNumber', 'AtomicMass', 'Electronegativity']\n"
     ]
    }
   ],
   "source": [
    "conn = sqlite3.connect(halogens_db_file_path)\n",
    "cursor = conn.cursor()\n",
    "cursor.execute('ALTER TABLE elements RENAME COLUMN \"Atomic Mass\" TO AtomicMass;')\n",
    "cursor.execute('ALTER TABLE elements RENAME COLUMN \"Atomic Number\" TO AtomicNumber;')\n",
    "\n",
    "cursor.execute(\"PRAGMA table_info(elements);\")\n",
    "fields = [row[1] for row in cursor.fetchall()]\n",
    "\n",
    "print(\"Fields in the 'elements' table:\", fields)\n",
    "conn.close()"
   ]
  },
  {
   "cell_type": "markdown",
   "id": "c968755e-c92a-4a9e-99f1-1b0df57387ce",
   "metadata": {},
   "source": [
    "## Print first 5 Records (rows)"
   ]
  },
  {
   "cell_type": "code",
   "execution_count": 5,
   "id": "19d5a262-8efd-4981-a4b8-2d8e53aede50",
   "metadata": {},
   "outputs": [
    {
     "name": "stdout",
     "output_type": "stream",
     "text": [
      "('F', 9, 18.998, 3.98)\n",
      "('Cl', 17, 35.45, 3.16)\n",
      "('Br', 35, 79.904, 2.96)\n",
      "('I', 53, 126.9, 2.66)\n",
      "('At', 85, 210.0, 2.2)\n"
     ]
    }
   ],
   "source": [
    "conn = sqlite3.connect(halogens_db_file_path)\n",
    "cursor = conn.cursor()\n",
    "\n",
    "cursor.execute(\"SELECT * FROM elements LIMIT 5;\")\n",
    "records = cursor.fetchall()\n",
    "\n",
    "for record in records:\n",
    "    print(record)\n",
    "\n",
    "conn.close()"
   ]
  },
  {
   "cell_type": "markdown",
   "id": "9fa026a0-005a-4ff9-91c9-73a04007f770",
   "metadata": {},
   "source": [
    "## Find Elements with mass less than 50 amu."
   ]
  },
  {
   "cell_type": "code",
   "execution_count": 6,
   "id": "3b86d1ff-9f13-4c3c-9373-2e25726b986c",
   "metadata": {},
   "outputs": [
    {
     "name": "stdout",
     "output_type": "stream",
     "text": [
      "Elements that weight less than 50 amu:\n",
      "('F',)\n",
      "('Cl',)\n",
      "[(35.45,)]\n",
      "<class 'list'>\n"
     ]
    }
   ],
   "source": [
    "conn = sqlite3.connect(halogens_db_file_path)\n",
    "cursor = conn.cursor()\n",
    "\n",
    "cursor.execute(\"SELECT Element FROM elements WHERE AtomicMass < 50;\")\n",
    "light_elements = cursor.fetchall()\n",
    "\n",
    "print(\"Elements that weight less than 50 amu:\")\n",
    "for element in light_elements:\n",
    "    print(element)\n",
    "cursor.execute(\"SELECT AtomicMass FROM elements WHERE Element LIKE 'Cl';\")\n",
    "var=cursor.fetchall()\n",
    "conn.close()\n",
    "print(var)\n",
    "print(type(var))"
   ]
  },
  {
   "cell_type": "markdown",
   "id": "9f8645e5-5c8a-44ee-a107-6ffe2b67e07d",
   "metadata": {},
   "source": [
    "Why Does `fetchall()` Return `[(35.45,)]`?\n",
    "- `fetchall()` **always** returns a **list of tuples**, even if there's only **one result**.\n",
    "- Each **row** is returned as a **tuple**, and `fetchall()` collects all rows into a **list**.\n",
    "```python\n",
    "var = cursor.fetchall()\n",
    "atomic_mass = var[0][0]  # Extract first row (tuple) and first column (value)\n",
    "print(atomic_mass)  # Output: 35.45\n",
    "print(type(atomic_mass))  # Output: <class 'float'>\n",
    "```\n",
    "- `var[0]` gives **the first row** → `(35.45,)`\n",
    "- `var[0][0]` gives **the first value** → `35.45`\n",
    "\n",
    "| Query Method | Output | How to Extract Float |\n",
    "|-------------|--------|----------------------|\n",
    "| `fetchall()` | `[(35.45,)]` | `var[0][0]` |\n",
    "| `fetchone()` | `(35.45,)` | `var[0]` |\n"
   ]
  },
  {
   "cell_type": "code",
   "execution_count": 7,
   "id": "6cd2a990-ce97-4c3e-9870-f4740b535912",
   "metadata": {},
   "outputs": [
    {
     "name": "stdout",
     "output_type": "stream",
     "text": [
      "35.45 <class 'float'>\n"
     ]
    }
   ],
   "source": [
    "conn = sqlite3.connect(halogens_db_file_path)\n",
    "cursor = conn.cursor()\n",
    "\n",
    "cursor.execute(\"SELECT AtomicMass FROM elements WHERE Element LIKE 'Cl';\")\n",
    "var = cursor.fetchone()  # Use fetchone() for a single value\n",
    "conn.close()\n",
    "atomic_mass = var[0]  # Extract float value\n",
    "print(atomic_mass, type(atomic_mass))  # Output: 35.45 <class 'float'>\n",
    "\n"
   ]
  },
  {
   "cell_type": "markdown",
   "id": "34051a66-f9ff-40be-be7d-576e23160e6e",
   "metadata": {},
   "source": [
    "Find Element with largest Atomic Mass"
   ]
  },
  {
   "cell_type": "code",
   "execution_count": 8,
   "id": "81086a92-ff64-427f-bf2c-ea7f7e455e95",
   "metadata": {},
   "outputs": [
    {
     "name": "stdout",
     "output_type": "stream",
     "text": [
      "Heaviest element: ('Ts', 294.0)\n"
     ]
    }
   ],
   "source": [
    "conn = sqlite3.connect(halogens_db_file_path)\n",
    "cursor = conn.cursor()\n",
    "\n",
    "cursor.execute(\"SELECT Element, AtomicMass FROM elements ORDER BY AtomicMass DESC LIMIT 1;\")\n",
    "heaviest_element = cursor.fetchone()\n",
    "\n",
    "print(\"Heaviest element:\", heaviest_element)\n",
    "conn.close()"
   ]
  },
  {
   "cell_type": "markdown",
   "id": "dffd05ee-66f9-4491-afe4-054dc12a7785",
   "metadata": {},
   "source": [
    "## Convert db to pandas dataframe"
   ]
  },
  {
   "cell_type": "code",
   "execution_count": 9,
   "id": "2a6fbb94-ca82-4c47-bc8e-a43e302e031e",
   "metadata": {},
   "outputs": [
    {
     "name": "stdout",
     "output_type": "stream",
     "text": [
      "  Element  AtomicNumber  AtomicMass  Electronegativity\n",
      "0       F             9      18.998               3.98\n",
      "1      Cl            17      35.450               3.16\n",
      "2      Br            35      79.904               2.96\n",
      "3       I            53     126.900               2.66\n",
      "4      At            85     210.000               2.20\n",
      "5      Ts           117     294.000                NaN\n"
     ]
    }
   ],
   "source": [
    "import sqlite3\n",
    "import pandas as pd\n",
    "\n",
    "# Connect to SQLite database\n",
    "conn = sqlite3.connect(halogens_db_file_path)\n",
    "\n",
    "# Load entire 'elements' table into a DataFrame\n",
    "df = pd.read_sql_query(\"SELECT * FROM elements;\", conn)\n",
    "\n",
    "# Close connection\n",
    "conn.close()\n",
    "\n",
    "# Display DataFrame\n",
    "print(df)\n"
   ]
  },
  {
   "cell_type": "markdown",
   "id": "b118d329-7f1c-43d3-bace-718ded251cf4",
   "metadata": {},
   "source": [
    "# Application Program Interfaces (APIs)\n",
    "APIs allow computers to obtain data from networked databases and web APIs are a valuable way to obtain chemical data\n",
    "## Brief Overview of APIs\n",
    "We will use Application Program Interfaces (APIs) throughout this course as they enable software programs to communicate with each other. The API defines a set of rules that allow the two programs to communicate with each other, and when that communication involves external data structures the API defines:\n",
    "\n",
    " **1. Endpoint (Exposes Data)**\n",
    "   - The URL where the API listens.\n",
    "   - Example: `https://query.wikidata.org/sparql`\n",
    "\n",
    " **2. Request/Response Model (How Data is Sent and Received)**\n",
    "   - Defines the protocol and request method.\n",
    "   - **REST APIs**: `GET`, `POST` over HTTP.\n",
    "   - **SPARQL APIs**: SPARQL Query over HTTP (`GET`/`POST`).\n",
    "   - **Database APIs**: SQL queries over TCP/IP.\n",
    "\n",
    " **3. Data Format (How Data is Structured)**\n",
    "   - **REST APIs**: JSON, XML, CSV.\n",
    "   - **SPARQL APIs**: SPARQL-JSON, RDF/XML, Turtle, N-Triples.\n",
    "   - **Databases**: Tabular data (Relational Tables).\n",
    "   - **GraphQL APIs**: JSON (Custom queries).\n",
    "\n",
    "## **Overview of API Architectures**\n",
    "\n",
    "APIs generally follow different architectures, but the most relevant for chemical data retrieval include:\n",
    "\n",
    "### 1. RESTful APIs (Representational State Transfer)\n",
    "   - The most common API architecture for chemical databases.\n",
    "   - Work with SQL and NoSQL Databases\n",
    "   - Uses standard HTTP methods:\n",
    "     - `GET`: Retrieve data\n",
    "     - `POST`: Send data\n",
    "     - `PUT`: Update data\n",
    "     - `DELETE`: Remove data\n",
    "   - Data is typically returned in JSON, XML, or CSV formats.\n",
    "   - Example: **PubChem REST API**\n",
    "\n",
    "### 2. SOAP APIs (Simple Object Access Protocol)\n",
    "   - Older, more rigid format using XML-based requests.\n",
    "   - Less common in modern web services but still used in large, legacy systems.\n",
    "\n",
    "### 3. GraphQL APIs\n",
    "   - Mostly work with NoSQL Databases\n",
    "   - Allows users to request specific fields instead of predefined responses.\n",
    "   - More flexible than REST but less common in chemical informatics.\n",
    "\n",
    "### 4. SPARQL Endpoints\n",
    "   - Work with RDF/Triple Stores\n",
    "   - Used for querying structured chemical databases (e.g., **ChEMBL**).\n",
    "   - Based on semantic web principles.\n",
    "\n",
    "---\n",
    "\n",
    "## 1. Chemical Databases with RESTful APIs\n",
    "| Database | Nature of Data | API Access |\n",
    "|----------|---------------|------------|\n",
    "| [PubChem](https://pubchem.ncbi.nlm.nih.gov/docs/pug-rest) | Chemical compounds, properties, bioactivity | [PUG REST API](https://pubchem.ncbi.nlm.nih.gov/docs/pug-rest) |\n",
    "| [ChEMBL](https://www.ebi.ac.uk/chembl/) | Bioactive molecules, drug-like properties | [REST API](https://www.ebi.ac.uk/chembl/api/data/docs) |\n",
    "| [ChemSpider](http://www.chemspider.com/) | Chemical structures, spectral data, identifiers | [API Access](http://www.chemspider.com/AboutServices.aspx) |\n",
    "| [Cactus NCI Resolver](https://cactus.nci.nih.gov/chemical/structure) | Structure-based identifier resolution | [REST API](https://cactus.nci.nih.gov/chemical/structure) |\n",
    "| [RCSB PDB](https://www.rcsb.org/) | Protein structures, small molecule interactions | [REST API](https://data.rcsb.org/redoc/) |\n",
    "| [Unichem](https://www.ebi.ac.uk/unichem/) | Cross-references between chemical databases | [REST API](https://www.ebi.ac.uk/unichem/rest) |\n",
    "| [Chemical Translation Service (CTS)](https://cts.fiehnlab.ucdavis.edu/) | Chemical identifier conversion | [API Access](https://cts.fiehnlab.ucdavis.edu/static/swagger-ui/index.html) |\n",
    "\n",
    "## 2. Chemical Databases with SPARQL Endpoints\n",
    "| Database | Nature of Data | SPARQL Endpoint |\n",
    "|----------|---------------|-----------------|\n",
    "| [ChEMBL](https://www.ebi.ac.uk/chembl/) | Bioactive molecules, drug discovery | [SPARQL Endpoint](https://www.ebi.ac.uk/rdf/services/chembl/sparql) |\n",
    "| [Bio2RDF DrugBank](http://drugbank.bio2rdf.org/) | Drugs, mechanisms, metabolism | [SPARQL Endpoint](http://drugbank.bio2rdf.org/sparql) |\n",
    "| [RDF ChEBI](https://www.ebi.ac.uk/chebi/) | Molecular entities, biological roles | [SPARQL Endpoint](https://www.ebi.ac.uk/rdf/services/chebi/sparql) |\n",
    "| [WikiPathways](https://www.wikipathways.org/) | Metabolic and signaling pathways | [SPARQL Endpoint](https://sparql.wikipathways.org/) |\n",
    "| [Uniprot](https://sparql.uniprot.org/) | Protein sequence and functional information | [SPARQL Endpoint](https://sparql.uniprot.org/) |\n",
    "| [Open PHACTS](https://www.openphacts.org/) | Drug discovery, pharmacology data | [SPARQL Endpoint](https://www.openphacts.org/2-uncategorised/123-spaql-endpoints) |\n"
   ]
  },
  {
   "cell_type": "markdown",
   "id": "bb292676-5196-4698-911a-e6cf9c86b3cb",
   "metadata": {},
   "source": [
    "# RESTful API Activity\n"
   ]
  },
  {
   "cell_type": "markdown",
   "id": "b08f57ae-7f77-482d-9341-b41a5ba5e61c",
   "metadata": {},
   "source": []
  },
  {
   "cell_type": "markdown",
   "id": "4892769f-273d-447d-bcfe-01bb7b59c08a",
   "metadata": {},
   "source": [
    "# Semantic Web: A Scientific Data Perspective\n",
    "The **Semantic Web** is an extension of the traditional World Wide Web that enables machines to understand and process data in a structured and meaningful way. It transforms the web from a collection of documents intended for human reading into a globally linked network of **structured data** that software can interpret, query, and reason over.\n",
    "\n",
    "At the heart of the Semantic Web are **linked data technologies**, which define **data relationships** instead of just formatting data into tables or files. The Semantic Web allows Python scripts to query machine-readable datasets. This means scientists can directly access structured data on molecules, atmospheric data, physical constants, and more. The key components include:\n",
    "\n",
    "1. **RDF (Resource Description Framework)**\n",
    "   - The **data model** of the Semantic Web.\n",
    "   - Represents **facts as triples**: **subject → predicate → object**.\n",
    "   - Example (Chemical Properties in RDF):\n",
    "     ```\n",
    "     <Acetone>   <has_molecular_weight>   \"58.08 g/mol\"\n",
    "     ```\n",
    "   - Enables **machine-readable relationships**, making **chemical knowledge searchable**.\n",
    "\n",
    "2. **OWL (Web Ontology Language)**\n",
    "   - Extends RDF with **logic & reasoning**.\n",
    "   - Defines **ontologies**: hierarchical classifications of concepts.\n",
    "   - Example: If **Acetone is a Ketone**, and **Ketones are Organic Compounds**, OWL **infers** that **Acetone is an Organic Compound**.\n",
    "\n",
    "3. **SPARQL (Query Language for RDF)**\n",
    "   - The SQL of the Semantic Web.\n",
    "   - Allows **querying linked datasets** across the web.\n",
    "\n",
    "4. **Linked Open Data (LOD)**\n",
    "   - RDF-based datasets are interlinked across disciplines.\n",
    "   - **Example Datasets**:\n",
    "     - **Wikidata** (General knowledge)\n",
    "     - **PubChem RDF** (Chemical data)\n",
    "     - **DBpedia** (Structured Wikipedia data)\n",
    "     - **Gene Ontology** (Biological data)\n",
    "\n",
    "## **Semantic Web vs Traditional Databases**\n",
    "| **Feature**          | **Relational Databases (SQL, NoSQL)** | **Semantic Web (RDF, OWL, SPARQL)** |\n",
    "|--------------------|--------------------------------|--------------------------------|\n",
    "| **Structure**      | Tables (structured schema)    | Graph-based (triples: subject-predicate-object) |\n",
    "| **Queries**       | SQL                            | SPARQL |\n",
    "| **Flexibility**   | Rigid schema                  | Dynamic relationships (easily extendable) |\n",
    "| **Interoperability** | Limited to specific database engines | Global linking of datasets (LOD cloud) |\n",
    "| **Examples**      | PostgreSQL, MongoDB           | Wikidata, PubChem RDF, DBpedia |\n",
    "\n"
   ]
  },
  {
   "cell_type": "markdown",
   "id": "843e2ea7-6d8d-476c-b9e3-2000c91a8366",
   "metadata": {},
   "source": [
    "#  Web Scraping and Databases: A Hybrid Approach\n",
    "While web scraping is often used to extract data for immediate use, it does not store it. A powerful workflow would be:\n",
    "- **Scrape data** from online sources.\n",
    "- **Store it in a structured database (SQL or NoSQL)** for long-term analysis.\n",
    "- **Query it later** instead of repeatedly scraping.\n",
    "\n",
    "\n",
    "## Web Scraping as a Data Acquisition Method\n",
    "Web scraping is a method of extracting **external data** from structured or semi-structured sources on the web and transforming it into a usable format. Unlike databases or file storage, web scraping **does not inherently store data**—it is a way to retrieve and structure data from the web dynamically. It allows access to **data stored in HTML web pages** that might not be available via an API.\n",
    "\n",
    "### Web Scraping vs. APIs\n",
    "| Feature         | Web Scraping | APIs |\n",
    "|---------------|-------------|------|\n",
    "| **Access** | Extracts data from web pages (HTML tables, text, lists) | Queries structured data from a service (often JSON or XML) |\n",
    "| **Structure** | Often semi-structured (needs parsing) | Well-structured |\n",
    "| **Reliability** | Pages may change, breaking the scraper | More stable (unless API changes) |\n",
    "| **Use Case** | Extracting tables, research data, metadata from articles | Accessing structured datasets (PubChem, NCBI, weather data) |\n",
    "\n",
    "Thus, **web scraping is an alternative to APIs when structured access is unavailable**.\n",
    "\n",
    "---\n",
    "\n",
    "## Web Scraping as a Bridge from Classical Literature to Structured Data\n",
    "Scientific data has historically been communicated through **journal articles, textbooks, and reports**. Many modern scientific knowledge repositories (e.g., Wikipedia, research databases) still store information in text-based formats rather than structured databases. Web scraping allows you to:\n",
    "\n",
    "- Extract **tabular data** (like chemical properties from Wikipedia or patents).\n",
    "- Retrieve **text-based metadata** (such as author names, abstracts, and citations).\n",
    "- Collect **non-tabular structured information** (like structured web pages with lists of elements).\n",
    "\n",
    "By applying **text parsing, table extraction, and structured storage**, web scraping allows researchers to **convert human-readable content into machine-readable data**.\n"
   ]
  },
  {
   "cell_type": "markdown",
   "id": "a3f663f1-964f-448c-bff7-a981684e41d4",
   "metadata": {},
   "source": []
  },
  {
   "cell_type": "markdown",
   "id": "b9803b6d-4870-426b-8e02-b72418ef79e0",
   "metadata": {},
   "source": []
  },
  {
   "cell_type": "code",
   "execution_count": null,
   "id": "da325b95-a621-4928-8dbc-21bf3cc03d98",
   "metadata": {},
   "outputs": [],
   "source": [
    "import urllib.request\n",
    "\n",
    "# URL of a spectral data file (example)\n",
    "url = \"https://physics.nist.gov/PhysRefData/ASD/lines_form.html\"\n",
    "\n",
    "# Download as text\n",
    "response = urllib.request.urlopen(url)\n",
    "data = response.read().decode('utf-8')\n",
    "\n",
    "# Save as a file\n",
    "with open(\"nist_spectra.html\", \"w\", encoding=\"utf-8\") as file:\n",
    "    file.write(data)\n",
    "\n",
    "print(\"Download complete!\")\n"
   ]
  },
  {
   "cell_type": "code",
   "execution_count": null,
   "id": "1f34485d-9da6-4343-b4a1-8bb7fb245bbb",
   "metadata": {},
   "outputs": [],
   "source": []
  }
 ],
 "metadata": {
  "kernelspec": {
   "display_name": "Python(py4sci)",
   "language": "python",
   "name": "py4sci"
  },
  "language_info": {
   "codemirror_mode": {
    "name": "ipython",
    "version": 3
   },
   "file_extension": ".py",
   "mimetype": "text/x-python",
   "name": "python",
   "nbconvert_exporter": "python",
   "pygments_lexer": "ipython3",
   "version": "3.12.8"
  }
 },
 "nbformat": 4,
 "nbformat_minor": 5
}
