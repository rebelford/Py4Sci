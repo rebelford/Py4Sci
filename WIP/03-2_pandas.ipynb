{
 "cells": [
  {
   "cell_type": "markdown",
   "id": "af83b5f7-df26-4be8-97d2-b60ca2040535",
   "metadata": {},
   "source": [
    "# 1. Introduction\n",
    "**Pandas** stands for **Pan**el **da**ta, which is an economics term for multi-dimensional datasets. Pandas is built on top of Numpy and has two primary data structures\n",
    "   1. Series (1D data structure)\n",
    "   2. Dataframe (2D data structure)\n",
    "\n",
    "If you want higher dimensional data structures you should use the [xrray package](https://pypi.org/project/xarray/).\n",
    "\n",
    "Pandas series and dataframes are typically easier to work with than Numpy\n",
    "arrays because they can use labels as index numbers. That is, you can give a row or a column a heading label and then using the label to obtain the data value, whereas in numpy you need to use the index numbers. Pandas can also contain multiple data types while numpy arrays can only have one data type. \n",
    "\n",
    "## Pandas DataFrames vs. Numpy Arrays\n",
    "<br>\n",
    "\n",
    "| Feature | **Pandas DataFrame** | **NumPy Array** |\n",
    "|---------|----------------------|-----------------|\n",
    "| Type | 2D table with labeled rows & columns | N-dimensional homogeneous array |\n",
    "| Supports multiple data types? |Yes (e.g., strings & numbers in one column) |No (all elements must be the same type) |\n",
    "| Supports heterogeneous data? |Yes (each column can have different types) |No (all elements must be the same `dtype`) |\n",
    "| Row & column labels |Yes (uses `Index` and column names) |No (only positional indexing) |\n",
    "| Access by labels? |Yes (`df.loc[\"row_label\", \"column_label\"]`) |No (only by index position) |\n",
    "| Access by index position? |Yes (`df.iloc[1, 2]`) |Yes (`arr[1, 2]`) |\n",
    "| Supports missing values? |Yes (`NaN`) |No (must use masked arrays or `np.nan`) |\n",
    "| Built-in functions for missing data? |Yes (`df.fillna()`, `df.dropna()`) |No (requires workarounds) |\n",
    "| Supports row/column operations? |Yes (`df.mean(axis=0)`, `df.sum(axis=1)`) |Yes (`arr.mean(axis=0)`, `arr.sum(axis=1)`) |\n",
    "| Supports grouping & aggregation? |Yes (`df.groupby()`, `df.agg()`) |No |\n",
    "| Supports reshaping? |Yes (`df.pivot()`, `df.melt()`) |Yes (`arr.reshape()`) |\n",
    "| Supports merging/joining? |Yes (`df.merge()`, `df.join()`) |No |\n",
    "| Mutable |Yes (you can modify/add/delete columns, rows or elements)|Partially (you can modify elements but not change shape)|\n",
    "| Read/Write CSV? |Yes (`df.to_csv()`, `pd.read_csv()`) |No (must use Pandas or `np.savetxt()`) |\n",
    "| Read/Write JSON? |Yes (`df.to_json()`, `pd.read_json()`) |No |\n",
    "| Read/Write Excel? |Yes (`df.to_excel()`, `pd.read_excel()`) |No |\n",
    "| Save/Load Binary Format? |Yes (`df.to_pickle()`) |Yes (`np.save()`, `np.load()`) |\n",
    "\n",
    "If you have not installed pandas you need to activate your conda virtual environment and install it using your terminal\n",
    "```bash\n",
    "conda activate NameOfEnvironment\n",
    "conda install -c conda-forge pandas\n",
    "```\n",
    "Now check the version that is installed"
   ]
  },
  {
   "cell_type": "code",
   "execution_count": null,
   "id": "c07f0e3c-da75-41ed-9527-81b59b11f0e3",
   "metadata": {},
   "outputs": [],
   "source": [
    "import pandas as pd\n",
    "print(pd.__version__)"
   ]
  },
  {
   "cell_type": "markdown",
   "id": "077b3f49-14b8-4bd5-8b26-73a336a6d71c",
   "metadata": {},
   "source": [
    "# 2. Pandas Object Overview\n",
    "## 2.1: Functions\n",
    "### Series Functions (series only)\n",
    "| Function | Syntax | Parameters | Description |\n",
    "|----------|--------|------------|-------------|\n",
    "| `str` | `series.str.method()` | String-specific method | Enables vectorized string operations. |\n",
    "| `dt` | `series.dt.method()` | Datetime-specific method | Enables date/time manipulations. |\n",
    "| `map()` | `series.map(func)` | `func`: Function to apply | Maps function to each value in the Series. |\n",
    "| `unique()` | `series.unique()` | No parameters | Returns unique values in the Series. |\n",
    "| `nunique()` | `series.nunique()` | No parameters | Returns the number of unique values. |\n",
    "| `value_counts()` | `series.value_counts()` | `normalize`, `sort`, `ascending`, `bins` | Returns frequency counts of unique values. |\n",
    "| `idxmax()` | `series.idxmax()` | No parameters | Returns index of the maximum value. |\n",
    "| `idxmin()` | `series.idxmin()` | No parameters | Returns index of the minimum value. |\n",
    "| `cumsum()` | `series.cumsum()` | No parameters | Computes the cumulative sum. |\n",
    "| `cumprod()` | `series.cumprod()` | No parameters | Computes the cumulative product. |\n",
    "| `cummax()` | `series.cummax()` | No parameters | Computes the cumulative max. |\n",
    "| `cummin()` | `series.cummin()` | No parameters | Computes the cumulative min. |\n",
    "| `shift()` | `series.shift(periods=1)` | `periods` (int, default=1) | Shifts values up or down. |\n",
    "| `diff()` | `series.diff(periods=1)` | `periods` (int, default=1) | Computes the difference between elements. |\n",
    "| `rank()` | `series.rank(method='average')` | `method`: Ranking method | Computes ranks of elements. |\n"
   ]
  },
  {
   "cell_type": "markdown",
   "id": "c9c063bb-c62e-49ca-ad31-372b1a103992",
   "metadata": {},
   "source": [
    "### Dataframe functions (df only)\n",
    "| Function | Syntax | Parameters | Description |\n",
    "|----------|--------|------------|-------------|\n",
    "| `groupby()` | `df.groupby(by)` | `by`: Column(s) to group by | Groups data and applies aggregation. |\n",
    "| `pivot()` | `df.pivot(index, columns, values)` | `index`, `columns`, `values` | Reshapes data by pivoting columns. |\n",
    "| `pivot_table()` | `df.pivot_table(values, index, columns)` | `values`, `index`, `columns`, `aggfunc` | Similar to `pivot()`, but allows aggregation. |\n",
    "| `melt()` | `df.melt(id_vars, value_vars)` | `id_vars`, `value_vars` | Converts wide format to long format. |\n",
    "| `merge()` | `df.merge(df2, on, how)` | `on`: Key column, `how`: Join type | Merges two DataFrames on a key. |\n",
    "| `join()` | `df.join(df2, on)` | `on`: Key column | Joins two DataFrames based on index. |\n",
    "| `concat()` | `pd.concat([df1, df2], axis=0)` | `axis`: 0 for rows, 1 for columns | Concatenates multiple DataFrames. |\n",
    "| `stack()` | `df.stack()` | No parameters | Converts columns into rows (long format). |\n",
    "| `unstack()` | `df.unstack()` | No parameters | Converts rows into columns (wide format). |\n",
    "| `explode()` | `df.explode(column)` | `column`: Column to explode | Expands list-like column values into rows. |\n",
    "| `T` | `df.T` | No parameters | Transposes rows and columns. |\n",
    "| `corr()` | `df.corr()` | No parameters | Computes correlation between columns. |\n",
    "| `cov()` | `df.cov()` | No parameters | Computes covariance between columns. |\n",
    "| `duplicated()` | `df.duplicated(subset, keep='first')` | `subset`: Columns to check | Identifies duplicate rows. |\n",
    "| `drop_duplicates()` | `df.drop_duplicates(subset, keep='first')` | `subset`: Columns to check | Removes duplicate rows. |\n",
    "| `sample()` | `df.sample(n=5, frac=None)` | `n`: Number of samples, `frac`: Fraction | Returns a random sample. |\n",
    "| `nlargest()` | `df.nlargest(n, columns)` | `n`: Number of rows, `columns`: Sort column | Returns top `n` largest values in a column. |\n",
    "| `nsmallest()` | `df.nsmallest(n, columns)` | `n`: Number of rows, `columns`: Sort column | Returns top `n` smallest values in a column. |\n",
    "| `fillna()` | `df.fillna(value)` | `value`: Value to fill missing data | Fills missing values. |\n",
    "| `dropna()` | `df.dropna(axis=0)` | `axis`: 0 (rows), 1 (columns) | Drops missing values. |\n",
    "| `replace()` | `df.replace(to_replace, value)` | `to_replace`, `value` | Replaces specific values. |\n"
   ]
  },
  {
   "cell_type": "markdown",
   "id": "537b2f47-7e90-4467-91da-a101c55cb561",
   "metadata": {},
   "source": [
    "### Series and dataframe functions\n",
    "| Function | Syntax | Parameters | Description |\n",
    "|----------|--------|------------|-------------|\n",
    "| `head()` | `df.head(n)` | `n` (int, default=5): Number of rows to return | Returns the first `n` rows. |\n",
    "| `tail()` | `df.tail(n)` | `n` (int, default=5): Number of rows to return | Returns the last `n` rows. |\n",
    "| `describe()` | `df.describe()` | `percentiles`, `include`, `exclude` | Generates summary statistics for numerical data. |\n",
    "| `count()` | `df.count()` | `axis=0` (count rows) or `axis=1` (count columns) | Counts non-null values. |\n",
    "| `sum()` | `df.sum(axis=0)` | `axis=0` (column-wise) or `axis=1` (row-wise) | Computes sum of values. |\n",
    "| `mean()` | `df.mean(axis=0)` | `axis=0` (default, column-wise) | Computes mean of values. |\n",
    "| `min()` | `df.min(axis=0)` | `axis=0` (default, column-wise) | Returns the minimum value. |\n",
    "| `max()` | `df.max(axis=0)` | `axis=0` (default, column-wise) | Returns the maximum value. |\n",
    "| `std()` | `df.std(axis=0)` | `axis=0` (default, column-wise) | Computes standard deviation. |\n",
    "| `var()` | `df.var(axis=0)` | `axis=0` (default, column-wise) | Computes variance. |\n",
    "| `median()` | `df.median(axis=0)` | `axis=0` (default, column-wise) | Computes the median value. |\n",
    "| `mode()` | `df.mode()` | No parameters | Returns the most frequent value(s). |\n",
    "| `abs()` | `df.abs()` | No parameters | Returns absolute values. |\n",
    "| `clip()` | `df.clip(lower, upper)` | `lower`, `upper`: Clip values to limits | Clips values to a range. |\n",
    "| `apply()` | `df.apply(func, axis=0)` | `func`: Function to apply, `axis` | Applies a function element-wise. |\n",
    "| `map()` | `df.map(func)` | `func`: Function to apply | Applies function to each element (Series only). |\n",
    "| `astype()` | `df.astype(dtype)` | `dtype`: Target data type | Converts data type of elements. |\n"
   ]
  },
  {
   "cell_type": "markdown",
   "id": "f0a76b3c-dd56-42c6-b264-4e00db7c0cc3",
   "metadata": {},
   "source": [
    "## 2.2 Attributes"
   ]
  },
  {
   "cell_type": "markdown",
   "id": "c6de649d-058d-4f88-943d-7bfe62f76918",
   "metadata": {},
   "source": [
    "## Series Attributes\n",
    "| Attribute | Syntax | Description |\n",
    "|-----------|--------|-------------|\n",
    "| `name` | `series.name` | Returns or sets the name of the Series. |\n",
    "| `dtype` | `series.dtype` | Returns the data type of the Series. |\n",
    "| `nbytes` | `series.nbytes` | Returns the total memory usage of the Series (in bytes). |\n",
    "| `T` | `series.T` | Returns the Series itself (useful for compatibility with DataFrames). |\n",
    "| `hasnans` | `series.hasnans` | Returns `True` if the Series contains `NaN` values. |\n",
    "| `is_unique` | `series.is_unique` | Returns `True` if all values in the Series are unique. |\n"
   ]
  },
  {
   "cell_type": "markdown",
   "id": "0a7d4629-26d3-4e13-8f22-11580a00bc1f",
   "metadata": {},
   "source": [
    "## Dataframe Attributes\n",
    "| Attribute | Syntax | Description |\n",
    "|-----------|--------|-------------|\n",
    "| `columns` | `df.columns` | Returns column labels of the DataFrame. |\n",
    "| `axes` | `df.axes` | Returns a list of row and column index labels. |\n",
    "| `T` | `df.T` | Returns the transposed DataFrame (swaps rows and columns). |\n",
    "| `info()` | `df.info()` | Displays a summary of the DataFrame (index, dtypes, memory usage). |\n",
    "| `memory_usage()` | `df.memory_usage()` | Returns the memory usage of each column. |\n",
    "| `select_dtypes()` | `df.select_dtypes(include=[...])` | Selects columns of a specific dtype. |\n",
    "| `nbytes` | `df.nbytes` | Returns the total memory usage of the DataFrame (in bytes). |\n"
   ]
  },
  {
   "cell_type": "markdown",
   "id": "43c66eaa-8c54-4902-8744-2d86963f53aa",
   "metadata": {},
   "source": [
    "## Series and Dataframe Attributes\n",
    "These work on both\n",
    "| Attribute | Syntax | Description |\n",
    "|-----------|--------|-------------|\n",
    "| `index` | `df.index` | Returns the row index labels. |\n",
    "| `columns` | `df.columns` | Returns the column labels (DataFrame only). |\n",
    "| `shape` | `df.shape` | Returns the dimensions (rows, columns). |\n",
    "| `size` | `df.size` | Returns the total number of elements (rows × columns). |\n",
    "| `ndim` | `df.ndim` | Returns the number of dimensions (1D for Series, 2D for DataFrame). |\n",
    "| `values` | `df.values` | Returns data as a NumPy array. |\n",
    "| `dtypes` | `df.dtypes` | Returns the data type of each column. |\n",
    "| `empty` | `df.empty` | Returns `True` if the object is empty. |\n"
   ]
  },
  {
   "cell_type": "markdown",
   "id": "8bde35a4-28e1-45bc-a653-6586337c355d",
   "metadata": {},
   "source": [
    "# 3. Pandas Series\n",
    "## 3.2 Creating Series \n",
    "### pd.Series() constructor\n",
    "General syntax for the **pd.Series() Constructor:**\n",
    "```python\n",
    "pd.Series(data=None, index=None, dtype=None, name=None, copy=False)\n",
    "```\n",
    "| Parameter | Description |\n",
    "|-----------|-------------|\n",
    "| `data` | The main data (can be list, dict, array, scalar, etc.) |\n",
    "| `index` | Labels for the Series elements (default: auto-generated integers) |\n",
    "| `dtype` | The data type (e.g., `float`, `int`, `str`) |\n",
    "| `name` | Optional name for the Series |\n",
    "| `copy` | If `True`, makes a copy of the data |\n",
    "\n",
    "#### From Lists\n",
    "- Index can be manually assigned or autogenerated (0,1,2,...)\n",
    "- By default produces a view if possible"
   ]
  },
  {
   "cell_type": "code",
   "execution_count": 8,
   "id": "f6103cd9-bc5e-47e2-9e0e-03b9b852a093",
   "metadata": {},
   "outputs": [
    {
     "name": "stdout",
     "output_type": "stream",
     "text": [
      "F    -188.1\n",
      "Cl    -34.0\n",
      "Br     59.5\n",
      "I     184.4\n",
      "At    336.8\n",
      "Name: Boiling Point (°C), dtype: float64\n",
      "\n",
      "Highest Boiling Point: 336.8\n",
      "\n",
      "Sorted Boiling Points:\n",
      " F    -188.1\n",
      "Cl    -34.0\n",
      "Br     59.5\n",
      "I     184.4\n",
      "At    336.8\n",
      "Name: Boiling Point (°C), dtype: float64\n",
      "\n",
      "Ranked Boiling Points:\n",
      " F     1.0\n",
      "Cl    2.0\n",
      "Br    3.0\n",
      "I     4.0\n",
      "At    5.0\n",
      "Name: Boiling Point (°C), dtype: float64\n"
     ]
    }
   ],
   "source": [
    "import pandas as pd\n",
    "\n",
    "# Creating a Series: Boiling points (in °C) of halogens\n",
    "boiling_points = pd.Series(\n",
    "    [-188.1, -34.0, 59.5, 184.4, 336.8],  # Values\n",
    "    index=[\"F\", \"Cl\", \"Br\", \"I\", \"At\"],  # Element symbols as labels\n",
    "    name=\"Boiling Point (°C)\"\n",
    "    )\n",
    "\n",
    "\n",
    "# Display the Series\n",
    "print(boiling_points)\n",
    "\n",
    "# Example Operations\n",
    "print(\"\\nHighest Boiling Point:\", boiling_points.max())  # Get the highest boiling point\n",
    "print(\"\\nSorted Boiling Points:\\n\", boiling_points.sort_values())  # Sort in ascending order\n",
    "print(\"\\nRanked Boiling Points:\\n\", boiling_points.rank())  # Rank the elements\n"
   ]
  },
  {
   "cell_type": "markdown",
   "id": "95f20b79-7ac0-4663-8c9b-da8eced82cf4",
   "metadata": {},
   "source": [
    "#### From Numpy Arrays"
   ]
  },
  {
   "cell_type": "code",
   "execution_count": 12,
   "id": "c27a61ca-4011-41d9-8467-9ead930cbb66",
   "metadata": {},
   "outputs": [
    {
     "name": "stdout",
     "output_type": "stream",
     "text": [
      "H     1\n",
      "He    2\n",
      "Li    3\n",
      "Be    4\n",
      "dtype: int64\n"
     ]
    }
   ],
   "source": [
    "import numpy as np\n",
    "import pandas as pd\n",
    "arr = np.array([1,2,3,4])\n",
    "s=pd.Series(arr, index=(['H','He', 'Li', 'Be']))\n",
    "print(s)"
   ]
  },
  {
   "cell_type": "markdown",
   "id": "aa0b3677-aac4-4afe-a2fc-4da8bbe20a78",
   "metadata": {},
   "source": [
    "#### From Dictionary"
   ]
  },
  {
   "cell_type": "code",
   "execution_count": 14,
   "id": "9a206e32-7118-4ccf-82fb-1b6075652e9d",
   "metadata": {},
   "outputs": [
    {
     "name": "stdout",
     "output_type": "stream",
     "text": [
      "H     1.0080\n",
      "He    4.0026\n",
      "Li    6.9400\n",
      "Be    9.0122\n",
      "Name: Atomic Mass (g/mol), dtype: float64\n"
     ]
    }
   ],
   "source": [
    "# Creating a Series from a dictionary (keys become the index)\n",
    "data = {\"H\": 1.008, \"He\": 4.0026, \"Li\": 6.94, \"Be\": 9.0122}\n",
    "s = pd.Series(data, name=\"Atomic Mass (g/mol)\")\n",
    "print(s)"
   ]
  },
  {
   "cell_type": "markdown",
   "id": "bb5af30b-73d2-4dbd-be8d-c4b70e1ababc",
   "metadata": {},
   "source": [
    "#### From Scalar Value\n",
    "-useful for initializing placeholders"
   ]
  },
  {
   "cell_type": "code",
   "execution_count": 15,
   "id": "325ec899-af9f-497f-98fd-e1bb1aa4fd40",
   "metadata": {},
   "outputs": [
    {
     "name": "stdout",
     "output_type": "stream",
     "text": [
      "A    1\n",
      "B    1\n",
      "C    1\n",
      "D    1\n",
      "dtype: int64\n"
     ]
    }
   ],
   "source": [
    "s = pd.Series(1, index=[\"A\", \"B\", \"C\", \"D\"])\n",
    "print(s)"
   ]
  },
  {
   "cell_type": "markdown",
   "id": "7d74ddc4-cc0d-41f3-a82c-ff751e48a880",
   "metadata": {},
   "source": [
    "s = pd.Series(1, index=[\"A\", \"B\", \"C\", \"D\"])\n",
    "print(s)"
   ]
  },
  {
   "cell_type": "markdown",
   "id": "0ac44f86-f42c-4b2f-a0b3-53ae8a0d55a8",
   "metadata": {},
   "source": [
    "### Indirect Methods\n",
    "#### From DataFrame Column"
   ]
  },
  {
   "cell_type": "code",
   "execution_count": 16,
   "id": "1a168079-e59c-4f94-9ec5-4ca64357de73",
   "metadata": {},
   "outputs": [
    {
     "name": "stdout",
     "output_type": "stream",
     "text": [
      "<class 'pandas.core.series.Series'>\n",
      "0    1.0080\n",
      "1    4.0026\n",
      "2    6.9400\n",
      "Name: Atomic Mass, dtype: float64\n"
     ]
    }
   ],
   "source": [
    "import pandas as pd\n",
    "\n",
    "# Creating a DataFrame\n",
    "df = pd.DataFrame({\"Element\": [\"H\", \"He\", \"Li\"], \"Atomic Mass\": [1.008, 4.0026, 6.94]})\n",
    "\n",
    "# Extracting a single column as a Series\n",
    "atomic_mass_series = df[\"Atomic Mass\"]\n",
    "print(type(atomic_mass_series))  # <class 'pandas.core.series.Series'>\n",
    "print(atomic_mass_series)"
   ]
  },
  {
   "cell_type": "markdown",
   "id": "58710aa6-c857-4257-a4f8-f7e4298d4267",
   "metadata": {},
   "source": [
    "#### Using apply() on dataframe column"
   ]
  },
  {
   "cell_type": "code",
   "execution_count": 17,
   "id": "72ecd72c-5809-4d12-9323-6117c24dc541",
   "metadata": {},
   "outputs": [
    {
     "name": "stdout",
     "output_type": "stream",
     "text": [
      "<class 'pandas.core.series.Series'>\n",
      "0     1.016064\n",
      "1    16.020807\n",
      "2    48.163600\n",
      "Name: Atomic Mass Squared, dtype: float64\n"
     ]
    }
   ],
   "source": [
    "df[\"Atomic Mass Squared\"] = df[\"Atomic Mass\"].apply(lambda x: x ** 2)\n",
    "print(type(df[\"Atomic Mass Squared\"]))  # <class 'pandas.core.series.Series'>\n",
    "print(df[\"Atomic Mass Squared\"])"
   ]
  },
  {
   "cell_type": "markdown",
   "id": "372df53b-7968-44e4-bff1-d7ebafb0a13b",
   "metadata": {},
   "source": [
    "#### Using map() to a dataframe column"
   ]
  },
  {
   "cell_type": "code",
   "execution_count": 22,
   "id": "bef0730b-0c82-412a-b29f-0d6ed505289f",
   "metadata": {},
   "outputs": [
    {
     "name": "stdout",
     "output_type": "stream",
     "text": [
      "0        Highly Electronegative\n",
      "1    Moderately Electronegative\n",
      "2    Moderately Electronegative\n",
      "3    Moderately Electronegative\n",
      "4         Low Electronegativity\n",
      "Name: Electronegativity, dtype: object\n",
      "<class 'pandas.core.series.Series'>\n",
      "\n",
      "\n",
      "  Element  Electronegativity  Electronegativity Category\n",
      "0       F               3.98      Highly Electronegative\n",
      "1      Cl               3.16  Moderately Electronegative\n",
      "2      Br               2.96  Moderately Electronegative\n",
      "3       I               2.66  Moderately Electronegative\n",
      "4      At               2.20       Low Electronegativity\n",
      "<class 'pandas.core.frame.DataFrame'>\n"
     ]
    }
   ],
   "source": [
    "import pandas as pd\n",
    "\n",
    "# Step 1: Create a DataFrame of electronegativity values for halogens\n",
    "halogens = pd.DataFrame({\n",
    "    \"Element\": [\"F\", \"Cl\", \"Br\", \"I\", \"At\"],\n",
    "    \"Electronegativity\": [3.98, 3.16, 2.96, 2.66, 2.2]\n",
    "})\n",
    "\n",
    "# Step 2: Define a function to classify elements based on electronegativity\n",
    "def classify_electronegativity(value):\n",
    "    if value >= 3.5:\n",
    "        return \"Highly Electronegative\"\n",
    "    elif value >= 2.5:\n",
    "        return \"Moderately Electronegative\"\n",
    "    else:\n",
    "        return \"Low Electronegativity\"\n",
    "\n",
    "# Step 3: Use `map()` to create a new Series with classifications\n",
    "electronegativity_class = halogens[\"Electronegativity\"].map(classify_electronegativity)\n",
    "\n",
    "# Step 4: Add the new classification Series to the DataFrame\n",
    "halogens[\"Electronegativity Category\"] = electronegativity_class\n",
    "\n",
    "# Step 5: Display the Series and DataFrame\n",
    "print(electronegativity_class)\n",
    "print(type(electronegativity_class))\n",
    "print(\"\\n\")\n",
    "print(halogens)\n",
    "print(type(halogens))\n",
    "# Step 6 (Optional): Save the DataFrame to a CSV file\n",
    "halogens.to_csv(\"halogens_electronegativity.csv\", index=False)\n"
   ]
  },
  {
   "cell_type": "markdown",
   "id": "cd4f0dc1-45cc-4bca-9943-93cc7b9ef460",
   "metadata": {},
   "source": [
    "#### Using iloc() on a dataframe"
   ]
  },
  {
   "cell_type": "code",
   "execution_count": 27,
   "id": "2f5cc190-f764-4a43-a63f-5ac59ff92919",
   "metadata": {},
   "outputs": [
    {
     "name": "stdout",
     "output_type": "stream",
     "text": [
      "<class 'pandas.core.series.Series'>\n",
      "0    0.93\n",
      "1    1.31\n",
      "2    1.61\n",
      "3    1.90\n",
      "4    2.19\n",
      "Name: Electronegativity, dtype: float64\n"
     ]
    }
   ],
   "source": [
    "import pandas as pd\n",
    "\n",
    "# Create a sample DataFrame with chemical properties\n",
    "df = pd.DataFrame({\n",
    "    \"Element\": [\"Na\", \"Mg\", \"Al\", \"Si\", \"P\"],\n",
    "    \"Atomic Number\": [11, 12, 13, 14, 15],\n",
    "    \"Electronegativity\": [0.93, 1.31, 1.61, 1.90, 2.19]\n",
    "})\n",
    "\n",
    "# Extract the \"Electronegativity\" column using iloc\n",
    "electronegativity_series = df.iloc[:, 2]  # Selecting column index 2\n",
    "\n",
    "print(type(electronegativity_series))  # Output: <class 'pandas.core.series.Series'>\n",
    "print(electronegativity_series)\n"
   ]
  },
  {
   "cell_type": "markdown",
   "id": "4a58749e-5b86-4727-9dee-ab602003f54c",
   "metadata": {},
   "source": [
    "#### Using loc() on a dataframe"
   ]
  },
  {
   "cell_type": "code",
   "execution_count": 28,
   "id": "734a65d1-be23-4813-b66a-306f90e9a9be",
   "metadata": {},
   "outputs": [
    {
     "name": "stdout",
     "output_type": "stream",
     "text": [
      "<class 'pandas.core.series.Series'>\n",
      "0    0.93\n",
      "1    1.31\n",
      "2    1.61\n",
      "3    1.90\n",
      "4    2.19\n",
      "Name: Electronegativity, dtype: float64\n"
     ]
    }
   ],
   "source": [
    "# Extract \"Electronegativity\" column using loc\n",
    "electronegativity_series = df.loc[:, \"Electronegativity\"]\n",
    "\n",
    "print(type(electronegativity_series))  # Output: <class 'pandas.core.series.Series'>\n",
    "print(electronegativity_series)\n"
   ]
  },
  {
   "cell_type": "markdown",
   "id": "32071ef6-8606-4d92-86d6-577d1b575c0f",
   "metadata": {},
   "source": [
    "# 4. Pandas DataFrames"
   ]
  },
  {
   "cell_type": "code",
   "execution_count": 3,
   "id": "d9d1858f-c893-4f2a-ad5e-8ce63b34e286",
   "metadata": {},
   "outputs": [
    {
     "name": "stdout",
     "output_type": "stream",
     "text": [
      "\n",
      "Boiling Points in Kelvin:\n",
      " F      85.05\n",
      "Cl    239.15\n",
      "Br    332.65\n",
      "I     457.55\n",
      "At    609.95\n",
      "Name: Boiling Point (°C), dtype: float64\n",
      "\n",
      "     Atomic Number  Atomic Radius (pm)  Density (g/cm³)  Melting Point (°C)\n",
      "Li              3                 152            0.534               180.5\n",
      "Na             11                 186            0.970                97.8\n",
      "K              19                 227            0.860                63.5\n",
      "Rb             37                 248            1.530                39.3\n",
      "Cs             55                 265            1.870                28.5\n",
      "\n",
      "Updated Alkali Metals DataFrame:\n",
      "     Atomic Number  Atomic Radius (pm)  Density (g/cm³)  Melting Point (°C)  \\\n",
      "Li              3                 152            0.534               180.5   \n",
      "Na             11                 186            0.970                97.8   \n",
      "K              19                 227            0.860                63.5   \n",
      "Rb             37                 248            1.530                39.3   \n",
      "Cs             55                 265            1.870                28.5   \n",
      "\n",
      "    Melting Point (K)  \n",
      "Li             453.65  \n",
      "Na             370.95  \n",
      "K              336.65  \n",
      "Rb             312.45  \n",
      "Cs             301.65  \n"
     ]
    }
   ],
   "source": [
    "# Convert melting points from °C to Kelvin (for both Series & DataFrame)\n",
    "to_kelvin = lambda temp: temp + 273.15\n",
    "\n",
    "# Apply function to the boiling points Series\n",
    "boiling_points_K = boiling_points.apply(to_kelvin)\n",
    "print(\"\\nBoiling Points in Kelvin:\\n\", boiling_points_K)\n",
    "\n",
    "# Apply function to the DataFrame column\n",
    "print(\"\\n\", alkali_metals)\n",
    "alkali_metals[\"Melting Point (K)\"] = alkali_metals[\"Melting Point (°C)\"].apply(to_kelvin)\n",
    "print(\"\\nUpdated Alkali Metals DataFrame:\\n\", alkali_metals)\n"
   ]
  },
  {
   "cell_type": "code",
   "execution_count": 2,
   "id": "fe96df4d-5d79-41b7-bea8-0647cdf2ebcf",
   "metadata": {},
   "outputs": [
    {
     "name": "stdout",
     "output_type": "stream",
     "text": [
      "    Atomic Number  Atomic Radius (pm)  Density (g/cm³)  Melting Point (°C)\n",
      "Li              3                 152            0.534               180.5\n",
      "Na             11                 186            0.970                97.8\n",
      "K              19                 227            0.860                63.5\n",
      "Rb             37                 248            1.530                39.3\n",
      "Cs             55                 265            1.870                28.5\n",
      "\n",
      "Mean Atomic Radius: 215.6\n",
      "\n",
      "Sorted by Melting Point:\n",
      "     Atomic Number  Atomic Radius (pm)  Density (g/cm³)  Melting Point (°C)\n",
      "Cs             55                 265            1.870                28.5\n",
      "Rb             37                 248            1.530                39.3\n",
      "K              19                 227            0.860                63.5\n",
      "Na             11                 186            0.970                97.8\n",
      "Li              3                 152            0.534               180.5\n",
      "\n",
      "Density Correlation:\n",
      "                     Atomic Number  Atomic Radius (pm)  Density (g/cm³)  \\\n",
      "Atomic Number            1.000000            0.932637         0.973714   \n",
      "Atomic Radius (pm)       0.932637            1.000000         0.895427   \n",
      "Density (g/cm³)          0.973714            0.895427         1.000000   \n",
      "Melting Point (°C)      -0.855879           -0.969793        -0.856947   \n",
      "\n",
      "                    Melting Point (°C)  \n",
      "Atomic Number                -0.855879  \n",
      "Atomic Radius (pm)           -0.969793  \n",
      "Density (g/cm³)              -0.856947  \n",
      "Melting Point (°C)            1.000000  \n"
     ]
    }
   ],
   "source": [
    "# Creating a DataFrame with physical properties of alkali metals\n",
    "alkali_metals = pd.DataFrame({\n",
    "    \"Atomic Number\": [3, 11, 19, 37, 55],  # Lithium to Cesium\n",
    "    \"Atomic Radius (pm)\": [152, 186, 227, 248, 265],\n",
    "    \"Density (g/cm³)\": [0.534, 0.97, 0.86, 1.53, 1.87],\n",
    "    \"Melting Point (°C)\": [180.5, 97.8, 63.5, 39.3, 28.5]\n",
    "}, index=[\"Li\", \"Na\", \"K\", \"Rb\", \"Cs\"])  # Using symbols as row index\n",
    "\n",
    "# Display the DataFrame\n",
    "print(alkali_metals)\n",
    "\n",
    "# Example Operations\n",
    "print(\"\\nMean Atomic Radius:\", alkali_metals[\"Atomic Radius (pm)\"].mean())  # Average atomic radius\n",
    "print(\"\\nSorted by Melting Point:\\n\", alkali_metals.sort_values(\"Melting Point (°C)\"))  # Sort by melting point\n",
    "print(\"\\nDensity Correlation:\\n\", alkali_metals.corr())  # Correlation between properties\n"
   ]
  },
  {
   "cell_type": "markdown",
   "id": "d3b4cfa2-c3d2-4345-8d5c-c8cb9bde9758",
   "metadata": {},
   "source": []
  },
  {
   "cell_type": "markdown",
   "id": "69240f07-b02c-4f18-af73-14e7cd24cb61",
   "metadata": {},
   "source": []
  },
  {
   "cell_type": "markdown",
   "id": "4bf94b71-3172-43b5-8264-2c5ac95fecfd",
   "metadata": {},
   "source": []
  },
  {
   "cell_type": "markdown",
   "id": "a0e52a67-cbf4-45b7-af69-2265532230b9",
   "metadata": {},
   "source": []
  }
 ],
 "metadata": {
  "kernelspec": {
   "display_name": "Python(py4sci)",
   "language": "python",
   "name": "py4sci"
  },
  "language_info": {
   "codemirror_mode": {
    "name": "ipython",
    "version": 3
   },
   "file_extension": ".py",
   "mimetype": "text/x-python",
   "name": "python",
   "nbconvert_exporter": "python",
   "pygments_lexer": "ipython3",
   "version": "3.12.8"
  }
 },
 "nbformat": 4,
 "nbformat_minor": 5
}
